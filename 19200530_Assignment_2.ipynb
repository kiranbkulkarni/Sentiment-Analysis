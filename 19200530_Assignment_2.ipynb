{
 "cells": [
  {
   "cell_type": "markdown",
   "metadata": {},
   "source": [
    "# COMP47670 Assignment 2: Text Classification"
   ]
  },
  {
   "cell_type": "markdown",
   "metadata": {},
   "source": [
    "Presented By: Kiran Kulkarni(19200530)"
   ]
  },
  {
   "cell_type": "markdown",
   "metadata": {},
   "source": [
    "### Overview:  \n",
    "The objective of this assignment is to scrape consumer reviews from a set of web pages and evaluate the performance of text classification on the data. The reviews have been divided into five categories here:\n",
    "    * http://mlg.ucd.ie/modules/yalp *\n",
    "Each review has a star rating. For this assignment, we will assume that 1-star to 3-star reviews are “negative”, and 4-star to 5-star reviews as “positive”.\n"
   ]
  },
  {
   "cell_type": "markdown",
   "metadata": {},
   "source": [
    "The following tasks were completed as part of the assignment\n",
    "\n",
    "* Task 1: To select three categories from the above mentioned base URL. To scrape all the reviews for each cartegory ans store them as three seperate datasets. To segregate the reviews based on the ratings and to provide a class label.(i.e., Positive or Negative)\n",
    "\n",
    "* Task 2: For the three category datasets: \n",
    "    * a.\tFrom the reviews in this category, apply appropriate preprocessing steps to create a numeric representation of the data, suitable for classification.\n",
    "    * b.\tBuild a classification model using a classifier of your choice, to distinguish between “positive” and “negative” reviews.\n",
    "    * c.\tTest the predictions of the classification model using an appropriate evaluation strategy. Report and discuss the evaluation results in your notebook.\n",
    "\n",
    "* 3.\tEvaluate the performance of each of your three classification models when applied to data from the other two selected categories. That is, for each unique pair of selected categories (A,B), run the experiments:\n",
    "    * a.\tTrain a classification model on the data from “Category A”, and evaluate its performance on the data from “Category B”.\n",
    "    * b.\tTrain a classification model on the data from “Category B”, and evaluate its performance on the data from “Category A”.\n",
    "    \n",
    "    \n",
    "#### GUIDELINES: \n",
    "For the assignment, only these third-party packages were used: NumPy, Pandas, Scikit-learn, NLTK, SciPy, Requests, BeautifulSoup, Matplotlib, Seaborn, Gensim\n"
   ]
  },
  {
   "cell_type": "markdown",
   "metadata": {},
   "source": [
    "### TASK 1: Scraping for reviews"
   ]
  },
  {
   "cell_type": "markdown",
   "metadata": {},
   "source": [
    "Before we begin the task 1, few necessary python packages should be installed on the machine. Some machines does have them installed and some don't."
   ]
  },
  {
   "cell_type": "code",
   "execution_count": 1,
   "metadata": {},
   "outputs": [],
   "source": [
    "#Installing the necessary packages\n",
    "\n",
    "#!pip install beautifulsoup4\n",
    "#!pip install lxml\n",
    "\n",
    "#a third party tool to detect languages.\n",
    "#!pip install langdetect\n",
    "\n",
    "#!pip install requests\n",
    "#!pip intsall gensim\n",
    "#!pip install seaborn\n",
    "#!pip install nltk"
   ]
  },
  {
   "cell_type": "markdown",
   "metadata": {},
   "source": [
    "Once the necessary packges are installed, we should import them to our project."
   ]
  },
  {
   "cell_type": "code",
   "execution_count": 35,
   "metadata": {},
   "outputs": [],
   "source": [
    "#import nltk - natural language toolkit\n",
    "import nltk\n",
    "\n",
    "#import the beautifulsoup 4 package for scraping the websites for reviews.\n",
    "import bs4 as bs\n",
    "\n",
    "#import the request package for hanfling http requests.\n",
    "import urllib.request\n",
    "\n",
    "#import pandas to hangle the panel data and store the scraped data into dataframes.\n",
    "import pandas as pd\n",
    "\n",
    "#import datetime. Not relevant to this project. \n",
    "from datetime import datetime\n",
    "\n",
    "#import numpy as np. To handle numerical data.\n",
    "import numpy as np\n",
    "\n",
    "#import regular expression\n",
    "import re\n",
    "import string\n",
    "\n",
    "from sklearn.feature_extraction.text import CountVectorizer, ENGLISH_STOP_WORDS\n",
    "\n",
    "from sklearn.linear_model import LogisticRegression\n",
    "\n",
    "#accuracy using accuracy_score\n",
    "from sklearn.metrics import accuracy_score, classification_report, confusion_matrix\n",
    "\n",
    "from sklearn.model_selection import train_test_split\n",
    "\n",
    "from nltk import word_tokenize\n",
    "\n",
    "from sklearn.ensemble import RandomForestClassifier\n",
    "\n",
    "from sklearn.naive_bayes import BernoulliNB, MultinomialNB, GaussianNB\n",
    "\n",
    "from nltk.stem import PorterStemmer, WordNetLemmatizer\n",
    "\n",
    "from nltk import word_tokenize"
   ]
  },
  {
   "cell_type": "markdown",
   "metadata": {},
   "source": [
    "After installing NLTK package, a few sub modules needs to be downloaded. Using the following lines of code, 'punkt', 'stopwords' are downloadedm"
   ]
  },
  {
   "cell_type": "code",
   "execution_count": 36,
   "metadata": {},
   "outputs": [],
   "source": [
    "#download the stopwords subpackage of nltk\n",
    "\n",
    "#please uncomment the following statements to install the packages.\n",
    "#nltk.download ('stopwords')\n",
    "\n",
    "#download the punkt subpackage of nltk\n",
    "\n",
    "#nltk.download ('punkt')\n",
    "\n",
    "#download all packages in nltk\n",
    "\n",
    "#nltk.download()"
   ]
  },
  {
   "cell_type": "markdown",
   "metadata": {},
   "source": [
    "To begin with, I have chosen Automotive, Cafe, and Fashion as my three choices of category. This choice is arbitrary. Choosing the categories which are more similar in nature(i.e., cafes and restaurants) could add bias to our Machine Learning model. So, keeping this in mind I have taken categories that are not closely related. "
   ]
  },
  {
   "cell_type": "markdown",
   "metadata": {},
   "source": [
    "### Scrape for data"
   ]
  },
  {
   "cell_type": "markdown",
   "metadata": {},
   "source": [
    "In order tp scrape the data from the url, I have written a function to each category which takes a url as input and returns a data frame containing the requested data. This function is more specific the kind of data  we are trying to scrape. It cannot be generalised."
   ]
  },
  {
   "cell_type": "code",
   "execution_count": 4,
   "metadata": {},
   "outputs": [],
   "source": [
    "\n",
    "# A function to scrape data from the base url\n",
    "def scrape_data(url): # url of each category\n",
    "    df_category = pd.DataFrame() #initialise an empty dataframe to hold the data\n",
    "    review_rating = [] # a list to hold the review text for each review\n",
    "    review_text = [] # a list to hold review rating for each review\n",
    "\n",
    "    sauce_category = urllib.request.urlopen(url).read() # passing the category url to create a sauce object\n",
    "    soup_category = bs.BeautifulSoup(sauce_category, 'lxml') # passing the sauce object to create a soup object\n",
    "    for item_url in soup_category.find_all('a'): # for loop to iterate overate each url for each shop.\n",
    "        if item_url.get('href') == \"index.html\": # an if condition to skip the index.html\n",
    "            continue # to skip and continue to next item\n",
    "        sauce_n = urllib.request.urlopen('http://mlg.ucd.ie/modules/yalp/'+item_url.get('href')).read() #passing the item_url to create a item_sauce object\n",
    "        soup_n = bs.BeautifulSoup(sauce_n, 'html.parser') #passing the item_suace object to create a item_soup object\n",
    "        for review_containers in soup_n.find_all(\"div\", {\"class\": \"review\"}): # for lopp to iterate over each review\n",
    "            review_rating.append(review_containers.find_all(\"p\", {\"class\": \"rating\"})[0].find_all('img')[0][\"alt\"]) #extracting review rating and appending it to the review_rating list\n",
    "            review_text.append(review_containers.find_all(\"p\", {\"class\": \"review-text\"})[0].text) # extracting the review_text and appending it to the review_text list\n",
    "        \n",
    "    df_category['review_rating'] = review_rating #assigning the review rating to data frame\n",
    "    df_category['review_text'] = review_text #assigning the review text to data frame \n",
    "    \n",
    "    return df_category # return the data in the form of a dataframe."
   ]
  },
  {
   "cell_type": "code",
   "execution_count": 6,
   "metadata": {},
   "outputs": [],
   "source": [
    "cafe_url = 'http://mlg.ucd.ie/modules/yalp/cafes_list.html' # a variable to hold the cafe url\n",
    "auto_url = 'http://mlg.ucd.ie/modules/yalp/automotive_list.html' # a variable to hold automotive url\n",
    "fash_url = 'http://mlg.ucd.ie/modules/yalp/fashion_list.html' # a variable to hold fashion url\n",
    "\n",
    "df_cafe = scrape_data(cafe_url) # a dataframe to hold the cafe data\n",
    "df_auto = scrape_data(auto_url) # a dataframe to hold the automotive data\n",
    "df_fash = scrape_data(fash_url) # a dataframe to hold the fashion data"
   ]
  },
  {
   "cell_type": "markdown",
   "metadata": {},
   "source": [
    "Storing the data into a csv."
   ]
  },
  {
   "cell_type": "code",
   "execution_count": 7,
   "metadata": {},
   "outputs": [],
   "source": [
    "df_cafe.to_csv('cafe_reviews.csv') # saving data frame into a csv file\n",
    "df_auto.to_csv('automotive_reviews.csv')\n",
    "df_fash.to_csv('fashion_reviews.csv')"
   ]
  },
  {
   "cell_type": "markdown",
   "metadata": {},
   "source": [
    "### Text pre-processing and assigning the traget label"
   ]
  },
  {
   "cell_type": "markdown",
   "metadata": {},
   "source": [
    "Before beginning the text pre-processing, let's first clean the collected data"
   ]
  },
  {
   "cell_type": "code",
   "execution_count": 8,
   "metadata": {},
   "outputs": [],
   "source": [
    "df_cafe['review_rating'] = df_cafe['review_rating'].str.split('-', expand=True)[0].astype(int) # split function applied to extract the rating(numeric part) from rating text \n",
    "df_auto['review_rating'] = df_auto['review_rating'].str.split('-', expand=True)[0].astype(int)\n",
    "df_fash['review_rating'] = df_fash['review_rating'].str.split('-', expand=True)[0].astype(int)"
   ]
  },
  {
   "cell_type": "code",
   "execution_count": 9,
   "metadata": {},
   "outputs": [
    {
     "name": "stdout",
     "output_type": "stream",
     "text": [
      "   review_rating                                        review_text\n",
      "0              4  Pros: Lots of items you would not expect from ...\n",
      "1              4  Best egg-tarts in town! There's really not muc...\n",
      "2              2  I've been to ABC Bakery a few times since I re...\n",
      "3              1  FYI, Closed Monday's New ownership for about 1...\n",
      "4              4  The inside may not look like much but they mak...\n",
      "<class 'numpy.int32'>\n"
     ]
    }
   ],
   "source": [
    "print(df_cafe.head()) # to confirm the changes in previous step have been applied\n",
    "\n",
    "print(type(df_cafe.review_rating[0]))"
   ]
  },
  {
   "cell_type": "markdown",
   "metadata": {},
   "source": [
    "#### To classify the reviews based on the rating. If the rating is below 3-star it's considered as Negative else it's Positive."
   ]
  },
  {
   "cell_type": "code",
   "execution_count": 10,
   "metadata": {},
   "outputs": [],
   "source": [
    "\n",
    "# a funtion to classify the review text based on the rating\n",
    "def classify_review(df):\n",
    "    df['class_label'] = np.where(df['review_rating']>=4, 'Positive', 'Negative') # if the rating is equal to or greater than 4, it's classified as Postive else Negative\n",
    "    return df\n"
   ]
  },
  {
   "cell_type": "code",
   "execution_count": 11,
   "metadata": {},
   "outputs": [
    {
     "data": {
      "text/html": [
       "<div>\n",
       "<style scoped>\n",
       "    .dataframe tbody tr th:only-of-type {\n",
       "        vertical-align: middle;\n",
       "    }\n",
       "\n",
       "    .dataframe tbody tr th {\n",
       "        vertical-align: top;\n",
       "    }\n",
       "\n",
       "    .dataframe thead th {\n",
       "        text-align: right;\n",
       "    }\n",
       "</style>\n",
       "<table border=\"1\" class=\"dataframe\">\n",
       "  <thead>\n",
       "    <tr style=\"text-align: right;\">\n",
       "      <th></th>\n",
       "      <th>review_rating</th>\n",
       "      <th>review_text</th>\n",
       "      <th>class_label</th>\n",
       "    </tr>\n",
       "  </thead>\n",
       "  <tbody>\n",
       "    <tr>\n",
       "      <td>0</td>\n",
       "      <td>5</td>\n",
       "      <td>Looking for the best tactical supplies? Look n...</td>\n",
       "      <td>Positive</td>\n",
       "    </tr>\n",
       "    <tr>\n",
       "      <td>1</td>\n",
       "      <td>1</td>\n",
       "      <td>Stood in line like an idiot for 5 minutes to p...</td>\n",
       "      <td>Negative</td>\n",
       "    </tr>\n",
       "    <tr>\n",
       "      <td>2</td>\n",
       "      <td>4</td>\n",
       "      <td>Another great store with quality Equipment. Th...</td>\n",
       "      <td>Positive</td>\n",
       "    </tr>\n",
       "    <tr>\n",
       "      <td>3</td>\n",
       "      <td>5</td>\n",
       "      <td>The Problem with this store is not that they h...</td>\n",
       "      <td>Positive</td>\n",
       "    </tr>\n",
       "    <tr>\n",
       "      <td>4</td>\n",
       "      <td>5</td>\n",
       "      <td>Great place! We went in at almost closing time...</td>\n",
       "      <td>Positive</td>\n",
       "    </tr>\n",
       "    <tr>\n",
       "      <td>...</td>\n",
       "      <td>...</td>\n",
       "      <td>...</td>\n",
       "      <td>...</td>\n",
       "    </tr>\n",
       "    <tr>\n",
       "      <td>1995</td>\n",
       "      <td>4</td>\n",
       "      <td>God, I'd never thought I'd see the day when I'...</td>\n",
       "      <td>Positive</td>\n",
       "    </tr>\n",
       "    <tr>\n",
       "      <td>1996</td>\n",
       "      <td>1</td>\n",
       "      <td>They keep shooting themselves in the foot. Apo...</td>\n",
       "      <td>Negative</td>\n",
       "    </tr>\n",
       "    <tr>\n",
       "      <td>1997</td>\n",
       "      <td>1</td>\n",
       "      <td>Extremely dark., so dark you can't see the out...</td>\n",
       "      <td>Negative</td>\n",
       "    </tr>\n",
       "    <tr>\n",
       "      <td>1998</td>\n",
       "      <td>1</td>\n",
       "      <td>This place is dark, loud, and filled with enou...</td>\n",
       "      <td>Negative</td>\n",
       "    </tr>\n",
       "    <tr>\n",
       "      <td>1999</td>\n",
       "      <td>1</td>\n",
       "      <td>If you ever wanted proof that sex sells just l...</td>\n",
       "      <td>Negative</td>\n",
       "    </tr>\n",
       "  </tbody>\n",
       "</table>\n",
       "<p>2000 rows × 3 columns</p>\n",
       "</div>"
      ],
      "text/plain": [
       "      review_rating                                        review_text  \\\n",
       "0                 5  Looking for the best tactical supplies? Look n...   \n",
       "1                 1  Stood in line like an idiot for 5 minutes to p...   \n",
       "2                 4  Another great store with quality Equipment. Th...   \n",
       "3                 5  The Problem with this store is not that they h...   \n",
       "4                 5  Great place! We went in at almost closing time...   \n",
       "...             ...                                                ...   \n",
       "1995              4  God, I'd never thought I'd see the day when I'...   \n",
       "1996              1  They keep shooting themselves in the foot. Apo...   \n",
       "1997              1  Extremely dark., so dark you can't see the out...   \n",
       "1998              1  This place is dark, loud, and filled with enou...   \n",
       "1999              1  If you ever wanted proof that sex sells just l...   \n",
       "\n",
       "     class_label  \n",
       "0       Positive  \n",
       "1       Negative  \n",
       "2       Positive  \n",
       "3       Positive  \n",
       "4       Positive  \n",
       "...          ...  \n",
       "1995    Positive  \n",
       "1996    Negative  \n",
       "1997    Negative  \n",
       "1998    Negative  \n",
       "1999    Negative  \n",
       "\n",
       "[2000 rows x 3 columns]"
      ]
     },
     "execution_count": 11,
     "metadata": {},
     "output_type": "execute_result"
    }
   ],
   "source": [
    "classify_review(df_cafe) #applying classify_review() on each category\n",
    "classify_review(df_auto)\n",
    "classify_review(df_fash)"
   ]
  },
  {
   "cell_type": "code",
   "execution_count": 12,
   "metadata": {},
   "outputs": [
    {
     "data": {
      "text/html": [
       "<div>\n",
       "<style scoped>\n",
       "    .dataframe tbody tr th:only-of-type {\n",
       "        vertical-align: middle;\n",
       "    }\n",
       "\n",
       "    .dataframe tbody tr th {\n",
       "        vertical-align: top;\n",
       "    }\n",
       "\n",
       "    .dataframe thead th {\n",
       "        text-align: right;\n",
       "    }\n",
       "</style>\n",
       "<table border=\"1\" class=\"dataframe\">\n",
       "  <thead>\n",
       "    <tr style=\"text-align: right;\">\n",
       "      <th></th>\n",
       "      <th>review_rating</th>\n",
       "      <th>review_text</th>\n",
       "      <th>class_label</th>\n",
       "    </tr>\n",
       "  </thead>\n",
       "  <tbody>\n",
       "    <tr>\n",
       "      <td>91</td>\n",
       "      <td>5</td>\n",
       "      <td>So good and so quaint. I come here any time I'...</td>\n",
       "      <td>Positive</td>\n",
       "    </tr>\n",
       "  </tbody>\n",
       "</table>\n",
       "</div>"
      ],
      "text/plain": [
       "    review_rating                                        review_text  \\\n",
       "91              5  So good and so quaint. I come here any time I'...   \n",
       "\n",
       "   class_label  \n",
       "91    Positive  "
      ]
     },
     "execution_count": 12,
     "metadata": {},
     "output_type": "execute_result"
    }
   ],
   "source": [
    "df_cafe.sample() #checking the sample"
   ]
  },
  {
   "cell_type": "markdown",
   "metadata": {},
   "source": [
    "### TASK 2: Ananlysis and Pre-Processing"
   ]
  },
  {
   "cell_type": "markdown",
   "metadata": {},
   "source": [
    "#### Some analysis on the reviews"
   ]
  },
  {
   "cell_type": "code",
   "execution_count": 13,
   "metadata": {},
   "outputs": [],
   "source": [
    "def count_reviews(df):\n",
    "    # Find the number of positive and negative reviews\n",
    "    print('Number of positive and negative reviews: ', df.class_label.value_counts())\n",
    "    # Find the proportion of positive and negative reviews\n",
    "    print('Proportion of positive and negative reviews: ', df.class_label.value_counts() / len(df))"
   ]
  },
  {
   "cell_type": "code",
   "execution_count": 14,
   "metadata": {},
   "outputs": [
    {
     "name": "stdout",
     "output_type": "stream",
     "text": [
      "Number of positive and negative reviews:  Positive    1462\n",
      "Negative     538\n",
      "Name: class_label, dtype: int64\n",
      "Proportion of positive and negative reviews:  Positive    0.731\n",
      "Negative    0.269\n",
      "Name: class_label, dtype: float64\n"
     ]
    }
   ],
   "source": [
    "# Number of positive and negative reviews in cafe category\n",
    "count_reviews(df_cafe)"
   ]
  },
  {
   "cell_type": "code",
   "execution_count": 15,
   "metadata": {},
   "outputs": [
    {
     "name": "stdout",
     "output_type": "stream",
     "text": [
      "Number of positive and negative reviews:  Positive    1212\n",
      "Negative     788\n",
      "Name: class_label, dtype: int64\n",
      "Proportion of positive and negative reviews:  Positive    0.606\n",
      "Negative    0.394\n",
      "Name: class_label, dtype: float64\n"
     ]
    }
   ],
   "source": [
    "# Number of positive and negative reviews in automotive category\n",
    "count_reviews(df_auto)"
   ]
  },
  {
   "cell_type": "code",
   "execution_count": 16,
   "metadata": {},
   "outputs": [
    {
     "name": "stdout",
     "output_type": "stream",
     "text": [
      "Number of positive and negative reviews:  Positive    1205\n",
      "Negative     795\n",
      "Name: class_label, dtype: int64\n",
      "Proportion of positive and negative reviews:  Positive    0.6025\n",
      "Negative    0.3975\n",
      "Name: class_label, dtype: float64\n"
     ]
    }
   ],
   "source": [
    "# Number of positive and negative reviews in fashion category\n",
    "count_reviews(df_fash)"
   ]
  },
  {
   "cell_type": "markdown",
   "metadata": {},
   "source": [
    "##### A function to find the max and min length of reviews"
   ]
  },
  {
   "cell_type": "code",
   "execution_count": 17,
   "metadata": {},
   "outputs": [],
   "source": [
    "def review_length(df):\n",
    "    length_reviews = df.review_text.str.len()\n",
    "    # How long is the longest review\n",
    "    print(\"\\n Review with Maximum lenght: \", max(length_reviews))\n",
    "    # How long is the shortest review\n",
    "    print(\"\\n Review with Minimum lenght: \", min(length_reviews))"
   ]
  },
  {
   "cell_type": "code",
   "execution_count": 18,
   "metadata": {},
   "outputs": [
    {
     "name": "stdout",
     "output_type": "stream",
     "text": [
      "Length of reviews in Cafe Category:\n",
      "\n",
      " Review with Maximum lenght:  4865\n",
      "\n",
      " Review with Minimum lenght:  117\n"
     ]
    }
   ],
   "source": [
    "print(\"Length of reviews in Cafe Category:\")\n",
    "review_length(df_cafe)"
   ]
  },
  {
   "cell_type": "code",
   "execution_count": 19,
   "metadata": {},
   "outputs": [
    {
     "name": "stdout",
     "output_type": "stream",
     "text": [
      "Length of reviews in Automobile Category:\n",
      "\n",
      " Review with Maximum lenght:  4976\n",
      "\n",
      " Review with Minimum lenght:  118\n"
     ]
    }
   ],
   "source": [
    "print(\"Length of reviews in Automobile Category:\")\n",
    "review_length(df_auto)"
   ]
  },
  {
   "cell_type": "code",
   "execution_count": 20,
   "metadata": {},
   "outputs": [
    {
     "name": "stdout",
     "output_type": "stream",
     "text": [
      "Length of reviews in Fashion Category:\n",
      "\n",
      " Review with Maximum lenght:  4820\n",
      "\n",
      " Review with Minimum lenght:  117\n"
     ]
    }
   ],
   "source": [
    "print(\"Length of reviews in Fashion Category:\")\n",
    "review_length(df_fash)"
   ]
  },
  {
   "cell_type": "code",
   "execution_count": 21,
   "metadata": {},
   "outputs": [],
   "source": [
    "# We can integrate all the preprocessing techniques like  removing digits, taokenisation, and lemmatization in one go. and then feed the pre-processed data to the vectoriser.\n",
    "# But here, to make the process more simple, I have created these functions seperately.\n",
    "# function to to do the first level of cleaning the data.  \n",
    "def text_preprocess(review_text):\n",
    "    #Make text lower, remove text in square brackets, remove punctuation and remove words.\n",
    "    review_text = review_text.lower()\n",
    "    review_text = re.sub('\\[.*?\\]', '', review_text)\n",
    "    review_text = re.sub('[%s]' % re.escape(string.punctuation), '', review_text)\n",
    "    review_text = re.sub('\\w*\\d\\w*', '', review_text)\n",
    "    \n",
    "    return review_text\n",
    "#storing the reference to the function in a lambda\n",
    "pre_process = lambda txt: text_preprocess(txt)"
   ]
  },
  {
   "cell_type": "code",
   "execution_count": 22,
   "metadata": {},
   "outputs": [],
   "source": [
    "df_cafe_clean = df_cafe #copying the raw data into a new dataframe\n",
    "df_cafe_clean.review_text = df_cafe_clean.review_text.apply(pre_process)#applying the pre-processing technique\n",
    "\n",
    "df_auto_clean = df_auto #copying the raw data into a new dataframe\n",
    "df_auto_clean.review_text = df_auto_clean.review_text.apply(pre_process)#applying the pre-processing technique\n",
    "\n",
    "df_fash_clean = df_fash #copying the raw data into a new dataframe\n",
    "df_fash_clean.review_text = df_fash_clean.review_text.apply(pre_process)#applying the pre-processing technique"
   ]
  },
  {
   "cell_type": "code",
   "execution_count": 23,
   "metadata": {},
   "outputs": [
    {
     "data": {
      "text/html": [
       "<div>\n",
       "<style scoped>\n",
       "    .dataframe tbody tr th:only-of-type {\n",
       "        vertical-align: middle;\n",
       "    }\n",
       "\n",
       "    .dataframe tbody tr th {\n",
       "        vertical-align: top;\n",
       "    }\n",
       "\n",
       "    .dataframe thead th {\n",
       "        text-align: right;\n",
       "    }\n",
       "</style>\n",
       "<table border=\"1\" class=\"dataframe\">\n",
       "  <thead>\n",
       "    <tr style=\"text-align: right;\">\n",
       "      <th></th>\n",
       "      <th>review_rating</th>\n",
       "      <th>review_text</th>\n",
       "      <th>class_label</th>\n",
       "    </tr>\n",
       "  </thead>\n",
       "  <tbody>\n",
       "    <tr>\n",
       "      <td>1240</td>\n",
       "      <td>5</td>\n",
       "      <td>excellent food service and friendly atmosphere...</td>\n",
       "      <td>Positive</td>\n",
       "    </tr>\n",
       "  </tbody>\n",
       "</table>\n",
       "</div>"
      ],
      "text/plain": [
       "      review_rating                                        review_text  \\\n",
       "1240              5  excellent food service and friendly atmosphere...   \n",
       "\n",
       "     class_label  \n",
       "1240    Positive  "
      ]
     },
     "execution_count": 23,
     "metadata": {},
     "output_type": "execute_result"
    }
   ],
   "source": [
    "#To check the above lines executed properly and the changes are applied on the dataframe.\n",
    "df_cafe_clean.sample()"
   ]
  },
  {
   "cell_type": "code",
   "execution_count": 24,
   "metadata": {},
   "outputs": [],
   "source": [
    "def word_tokenise(df):\n",
    "    word_tokens = [word_tokenize(review) for review in df.review_text]\n",
    "    return word_tokens"
   ]
  },
  {
   "cell_type": "code",
   "execution_count": 25,
   "metadata": {},
   "outputs": [
    {
     "data": {
      "text/html": [
       "<div>\n",
       "<style scoped>\n",
       "    .dataframe tbody tr th:only-of-type {\n",
       "        vertical-align: middle;\n",
       "    }\n",
       "\n",
       "    .dataframe tbody tr th {\n",
       "        vertical-align: top;\n",
       "    }\n",
       "\n",
       "    .dataframe thead th {\n",
       "        text-align: right;\n",
       "    }\n",
       "</style>\n",
       "<table border=\"1\" class=\"dataframe\">\n",
       "  <thead>\n",
       "    <tr style=\"text-align: right;\">\n",
       "      <th></th>\n",
       "      <th>review_rating</th>\n",
       "      <th>review_text</th>\n",
       "      <th>class_label</th>\n",
       "      <th>review_tokenised</th>\n",
       "    </tr>\n",
       "  </thead>\n",
       "  <tbody>\n",
       "    <tr>\n",
       "      <td>1647</td>\n",
       "      <td>5</td>\n",
       "      <td>one of my favorite coffee places in pittsburgh...</td>\n",
       "      <td>Positive</td>\n",
       "      <td>[one, of, my, favorite, coffee, places, in, pi...</td>\n",
       "    </tr>\n",
       "  </tbody>\n",
       "</table>\n",
       "</div>"
      ],
      "text/plain": [
       "      review_rating                                        review_text  \\\n",
       "1647              5  one of my favorite coffee places in pittsburgh...   \n",
       "\n",
       "     class_label                                   review_tokenised  \n",
       "1647    Positive  [one, of, my, favorite, coffee, places, in, pi...  "
      ]
     },
     "execution_count": 25,
     "metadata": {},
     "output_type": "execute_result"
    }
   ],
   "source": [
    "df_cafe_clean['review_tokenised'] = word_tokenise(df_cafe_clean)\n",
    "df_auto_clean['review_tokenised'] = word_tokenise(df_auto_clean)\n",
    "df_fash_clean['review_tokenised'] = word_tokenise(df_fash_clean)\n",
    "\n",
    "#To check the above lines executed properly and the changes are applied on the dataframe.\n",
    "df_cafe_clean.sample()"
   ]
  },
  {
   "cell_type": "code",
   "execution_count": 26,
   "metadata": {},
   "outputs": [],
   "source": [
    "# A function to calculate the lenght of the review tokens.\n",
    "def len_tokens(df):\n",
    "    #tokens form a column\n",
    "    len_tokens = []\n",
    "\n",
    "    #Iteratre over the word_tokens list\n",
    "    for i in range(len(df['review_tokenised'])):\n",
    "        len_tokens.append(len(df.review_tokenised[i]))\n",
    "    return len_tokens"
   ]
  },
  {
   "cell_type": "code",
   "execution_count": 27,
   "metadata": {},
   "outputs": [
    {
     "data": {
      "text/html": [
       "<div>\n",
       "<style scoped>\n",
       "    .dataframe tbody tr th:only-of-type {\n",
       "        vertical-align: middle;\n",
       "    }\n",
       "\n",
       "    .dataframe tbody tr th {\n",
       "        vertical-align: top;\n",
       "    }\n",
       "\n",
       "    .dataframe thead th {\n",
       "        text-align: right;\n",
       "    }\n",
       "</style>\n",
       "<table border=\"1\" class=\"dataframe\">\n",
       "  <thead>\n",
       "    <tr style=\"text-align: right;\">\n",
       "      <th></th>\n",
       "      <th>review_rating</th>\n",
       "      <th>review_text</th>\n",
       "      <th>class_label</th>\n",
       "      <th>review_tokenised</th>\n",
       "      <th>len_tokens</th>\n",
       "    </tr>\n",
       "  </thead>\n",
       "  <tbody>\n",
       "    <tr>\n",
       "      <td>577</td>\n",
       "      <td>5</td>\n",
       "      <td>i went to cr tire after initially going to  di...</td>\n",
       "      <td>Positive</td>\n",
       "      <td>[i, went, to, cr, tire, after, initially, goin...</td>\n",
       "      <td>95</td>\n",
       "    </tr>\n",
       "  </tbody>\n",
       "</table>\n",
       "</div>"
      ],
      "text/plain": [
       "     review_rating                                        review_text  \\\n",
       "577              5  i went to cr tire after initially going to  di...   \n",
       "\n",
       "    class_label                                   review_tokenised  len_tokens  \n",
       "577    Positive  [i, went, to, cr, tire, after, initially, goin...          95  "
      ]
     },
     "execution_count": 27,
     "metadata": {},
     "output_type": "execute_result"
    }
   ],
   "source": [
    "df_cafe_clean['len_tokens'] = len_tokens(df_cafe_clean)\n",
    "df_auto_clean['len_tokens'] = len_tokens(df_auto_clean)\n",
    "df_fash_clean['len_tokens'] = len_tokens(df_fash_clean)\n",
    "\n",
    "#To check the above lines executed properly and the changes are applied on the dataframe.\n",
    "df_auto_clean.sample()"
   ]
  },
  {
   "cell_type": "code",
   "execution_count": 28,
   "metadata": {},
   "outputs": [],
   "source": [
    "# A function to return the lemmatized text of the review_tokens\n",
    "def lemmatize_text(df):\n",
    "    #Initialising the Word Net Lemmatizer. One of the most commonly used lemmatizers for sentiment analysis.\n",
    "    WNlemmatizer = WordNetLemmatizer()\n",
    "    lemmatized_tokens = [' '.join([WNlemmatizer.lemmatize(word) for word in token]) for token in df.review_tokenised] #lemmatise and send the tokens as sentence.\n",
    "    #return the lemmatised tokens\n",
    "    return lemmatized_tokens"
   ]
  },
  {
   "cell_type": "code",
   "execution_count": 29,
   "metadata": {},
   "outputs": [
    {
     "data": {
      "text/html": [
       "<div>\n",
       "<style scoped>\n",
       "    .dataframe tbody tr th:only-of-type {\n",
       "        vertical-align: middle;\n",
       "    }\n",
       "\n",
       "    .dataframe tbody tr th {\n",
       "        vertical-align: top;\n",
       "    }\n",
       "\n",
       "    .dataframe thead th {\n",
       "        text-align: right;\n",
       "    }\n",
       "</style>\n",
       "<table border=\"1\" class=\"dataframe\">\n",
       "  <thead>\n",
       "    <tr style=\"text-align: right;\">\n",
       "      <th></th>\n",
       "      <th>review_rating</th>\n",
       "      <th>review_text</th>\n",
       "      <th>class_label</th>\n",
       "      <th>review_tokenised</th>\n",
       "      <th>len_tokens</th>\n",
       "      <th>lemmatized_review</th>\n",
       "    </tr>\n",
       "  </thead>\n",
       "  <tbody>\n",
       "    <tr>\n",
       "      <td>1077</td>\n",
       "      <td>2</td>\n",
       "      <td>wasnt that great coffee was subpar overpriced ...</td>\n",
       "      <td>Negative</td>\n",
       "      <td>[wasnt, that, great, coffee, was, subpar, over...</td>\n",
       "      <td>24</td>\n",
       "      <td>wasnt that great coffee wa subpar overpriced t...</td>\n",
       "    </tr>\n",
       "  </tbody>\n",
       "</table>\n",
       "</div>"
      ],
      "text/plain": [
       "      review_rating                                        review_text  \\\n",
       "1077              2  wasnt that great coffee was subpar overpriced ...   \n",
       "\n",
       "     class_label                                   review_tokenised  \\\n",
       "1077    Negative  [wasnt, that, great, coffee, was, subpar, over...   \n",
       "\n",
       "      len_tokens                                  lemmatized_review  \n",
       "1077          24  wasnt that great coffee wa subpar overpriced t...  "
      ]
     },
     "execution_count": 29,
     "metadata": {},
     "output_type": "execute_result"
    }
   ],
   "source": [
    "df_cafe_clean['lemmatized_review'] = lemmatize_text(df_cafe_clean)\n",
    "df_auto_clean['lemmatized_review'] = lemmatize_text(df_auto_clean)\n",
    "df_fash_clean['lemmatized_review'] = lemmatize_text(df_fash_clean)\n",
    "\n",
    "#To check the above lines executed properly and the changes are applied on the dataframe.\n",
    "df_cafe_clean.sample()"
   ]
  },
  {
   "cell_type": "markdown",
   "metadata": {},
   "source": [
    "### Vectorising review_texts using CountVectorizer"
   ]
  },
  {
   "cell_type": "code",
   "execution_count": 30,
   "metadata": {},
   "outputs": [
    {
     "name": "stdout",
     "output_type": "stream",
     "text": [
      "   aaa  aaa meat  aaa meat wa  aaa ribeye  aaa ribeye steak  aaand  aaand im  \\\n",
      "0    0         0            0           0                 0      0         0   \n",
      "1    0         0            0           0                 0      0         0   \n",
      "2    0         0            0           0                 0      0         0   \n",
      "3    0         0            0           0                 0      0         0   \n",
      "4    0         0            0           0                 0      0         0   \n",
      "\n",
      "   aaand im dead  aau  aau basketball  ...  été accueillis par  été décu  \\\n",
      "0              0    0               0  ...                   0         0   \n",
      "1              0    0               0  ...                   0         0   \n",
      "2              0    0               0  ...                   0         0   \n",
      "3              0    0               0  ...                   0         0   \n",
      "4              0    0               0  ...                   0         0   \n",
      "\n",
      "   été décu le  été très  été très bien  été époustouflée  \\\n",
      "0            0         0              0                 0   \n",
      "1            0         0              0                 0   \n",
      "2            0         0              0                 0   \n",
      "3            0         0              0                 0   \n",
      "4            0         0              0                 0   \n",
      "\n",
      "   été époustouflée par  üppige  üppige mahlzeit  üppige mahlzeit die  \n",
      "0                     0       0                0                    0  \n",
      "1                     0       0                0                    0  \n",
      "2                     0       0                0                    0  \n",
      "3                     0       0                0                    0  \n",
      "4                     0       0                0                    0  \n",
      "\n",
      "[5 rows x 177351 columns]\n"
     ]
    }
   ],
   "source": [
    "#from sklearn.feature_extraction.text import CountVectorizer \n",
    "from sklearn.feature_extraction.text import CountVectorizer, ENGLISH_STOP_WORDS\n",
    "\n",
    "# Build the vectorizer, specify max features \n",
    "# CountVectorizer(ngram_range=(min_n, max_n)), specify the n-grams required\n",
    "vect = CountVectorizer(ngram_range=(1,3),max_features=None, stop_words=ENGLISH_STOP_WORDS)\n",
    "\n",
    "# Fit the vectorizer\n",
    "vect.fit(df_cafe_clean.lemmatized_review)\n",
    "\n",
    "# Transform the review column\n",
    "X_cafe_review = vect.transform(df_cafe_clean.lemmatized_review)\n",
    "\n",
    "# Create the bow(bag-of-words) representation\n",
    "X_df=pd.DataFrame(X_cafe_review.toarray(), columns=vect.get_feature_names())\n",
    "print(X_df.head())"
   ]
  },
  {
   "cell_type": "markdown",
   "metadata": {},
   "source": [
    "### Vectorising using TfIdf()"
   ]
  },
  {
   "cell_type": "code",
   "execution_count": 31,
   "metadata": {},
   "outputs": [
    {
     "name": "stdout",
     "output_type": "stream",
     "text": [
      "Top 5 rows of the DataFrame:     aaa  aaa meat  aaa ribeye  aaand  aaand im  aau  aau basketball   ab  \\\n",
      "0  0.0       0.0         0.0    0.0       0.0  0.0             0.0  0.0   \n",
      "1  0.0       0.0         0.0    0.0       0.0  0.0             0.0  0.0   \n",
      "2  0.0       0.0         0.0    0.0       0.0  0.0             0.0  0.0   \n",
      "3  0.0       0.0         0.0    0.0       0.0  0.0             0.0  0.0   \n",
      "4  0.0       0.0         0.0    0.0       0.0  0.0             0.0  0.0   \n",
      "\n",
      "   ab doe  ab eggr  ...  étoile plus  étrangement  étrangement leau  été  \\\n",
      "0     0.0      0.0  ...          0.0          0.0               0.0  0.0   \n",
      "1     0.0      0.0  ...          0.0          0.0               0.0  0.0   \n",
      "2     0.0      0.0  ...          0.0          0.0               0.0  0.0   \n",
      "3     0.0      0.0  ...          0.0          0.0               0.0  0.0   \n",
      "4     0.0      0.0  ...          0.0          0.0               0.0  0.0   \n",
      "\n",
      "   été accueillis  été décu  été très  été époustouflée  üppige  \\\n",
      "0             0.0       0.0       0.0               0.0     0.0   \n",
      "1             0.0       0.0       0.0               0.0     0.0   \n",
      "2             0.0       0.0       0.0               0.0     0.0   \n",
      "3             0.0       0.0       0.0               0.0     0.0   \n",
      "4             0.0       0.0       0.0               0.0     0.0   \n",
      "\n",
      "   üppige mahlzeit  \n",
      "0              0.0  \n",
      "1              0.0  \n",
      "2              0.0  \n",
      "3              0.0  \n",
      "4              0.0  \n",
      "\n",
      "[5 rows x 83566 columns]\n"
     ]
    }
   ],
   "source": [
    "# Import the required vectorizer package and stop words list\n",
    "from sklearn.feature_extraction.text import TfidfVectorizer,ENGLISH_STOP_WORDS\n",
    "\n",
    "# Define the vectorizer and specify the arguments\n",
    "my_pattern = r'\\b[^\\d\\W][^\\d\\W]+\\b'\n",
    "#'(?u)\\\\b\\\\w\\\\w+\\\\b'\n",
    "vect = TfidfVectorizer(ngram_range=(1, 2), max_features=None,stop_words=ENGLISH_STOP_WORDS,token_pattern=my_pattern).fit(df_cafe_clean.lemmatized_review)\n",
    "\n",
    "# Transform the vectorizer\n",
    "X_txt = vect.transform(df_cafe_clean.lemmatized_review)\n",
    "\n",
    "# Transform to a data frame and specify the column names\n",
    "X=pd.DataFrame(X_txt.toarray(), columns=vect.get_feature_names())\n",
    "print('Top 5 rows of the DataFrame: ', X.head())"
   ]
  },
  {
   "cell_type": "markdown",
   "metadata": {},
   "source": [
    "Since TfIdf vectoriser adds the Inverse document frequency along with Term Frequency. I have chosen the TfidfVectorizer()."
   ]
  },
  {
   "cell_type": "code",
   "execution_count": 32,
   "metadata": {},
   "outputs": [],
   "source": [
    "# A function to transform the reviews into vectors\n",
    "def vectorise_reviews(df_category):\n",
    "    vect = TfidfVectorizer(ngram_range=(1, 1), max_features=None,stop_words=ENGLISH_STOP_WORDS, lowercase=True,token_pattern='(?u)\\\\b\\\\w\\\\w+\\\\b', smooth_idf=True).fit(df_category.lemmatized_review)\n",
    "\n",
    "    # Transform the vectorizer\n",
    "    X_txt = vect.transform(df_category.lemmatized_review)\n",
    "\n",
    "    # Transform to a data frame and specify the column names\n",
    "    X=pd.DataFrame(X_txt.toarray(), columns=vect.get_feature_names())\n",
    "      \n",
    "    return X"
   ]
  },
  {
   "cell_type": "markdown",
   "metadata": {},
   "source": [
    "##### a. Fitting the vectorised data with Logistic Regression"
   ]
  },
  {
   "cell_type": "code",
   "execution_count": null,
   "metadata": {},
   "outputs": [],
   "source": []
  },
  {
   "cell_type": "code",
   "execution_count": 33,
   "metadata": {},
   "outputs": [],
   "source": [
    "# A function to fit and predict using a Logistic Regression Classifier\n",
    "def fit_and_predict_evaluate_lg(df_c):\n",
    "    #vetcorising text\n",
    "    vectorised_reviews_X = vectorise_reviews(df_c)\n",
    "    target_y = df_c.class_label\n",
    "    \n",
    "    #Splitting the vectorised data\n",
    "    X_train, X_test, y_train, y_test = train_test_split(vectorised_reviews_X, target_y, random_state=123, test_size=0.2, stratify= target_y)\n",
    "    # Build a logistic regression model and calculate the accuracy\n",
    "    #mnb = MultinomialNB().fit(X_train, y_train)\n",
    "    log_reg = LogisticRegression(solver= 'lbfgs').fit(X_train, y_train)\n",
    "    #rand = RandomForestClassifier().fit(X_train, y_train)\n",
    "    #y_rand_predicted = rand.predict(tfidf.transform(x_test_cleaned))\n",
    "    y_predicted = log_reg.predict(X_test)\n",
    "    \n",
    "    #Evaluating the model\n",
    "    print('Accuracy of training data: ', log_reg.score(X_train, y_train))\n",
    "    print('Accuracy on Testing data', log_reg.score(X_test, y_test))\n",
    "    print('Accuracy score on predicted data', accuracy_score(y_test, y_predicted))\n",
    "    print(\"\\nClassification report : \\n\", classification_report(y_test, y_predicted))\n",
    "    print(\"\\nConfusion Matrix : \\n\", confusion_matrix(y_test, y_predicted))\n",
    "    print(\"\\nConfusion Matrix : By percentage\\n\", confusion_matrix(y_test, y_predicted)/len(y_test))\n",
    "    "
   ]
  },
  {
   "cell_type": "code",
   "execution_count": null,
   "metadata": {},
   "outputs": [],
   "source": []
  },
  {
   "cell_type": "markdown",
   "metadata": {},
   "source": [
    "I have applied each of the specified ML classifiers on each category sperately to compare the performance."
   ]
  },
  {
   "cell_type": "code",
   "execution_count": 37,
   "metadata": {},
   "outputs": [
    {
     "name": "stdout",
     "output_type": "stream",
     "text": [
      "PREDICTING using Logistic Regression for all the 3 categories\n",
      "\n",
      " ======================================================================= \n",
      "\n",
      "For Category Cafe: \n",
      " \n",
      "\n",
      "Accuracy of training data:  0.896875\n",
      "Accuracy on Testing data 0.8375\n",
      "Accuracy score on predicted data 0.8375\n",
      "\n",
      "Classification report : \n",
      "               precision    recall  f1-score   support\n",
      "\n",
      "    Negative       0.96      0.42      0.58       108\n",
      "    Positive       0.82      0.99      0.90       292\n",
      "\n",
      "    accuracy                           0.84       400\n",
      "   macro avg       0.89      0.70      0.74       400\n",
      "weighted avg       0.86      0.84      0.81       400\n",
      "\n",
      "\n",
      "Confusion Matrix : \n",
      " [[ 45  63]\n",
      " [  2 290]]\n",
      "\n",
      "Confusion Matrix : By percentage\n",
      " [[0.1125 0.1575]\n",
      " [0.005  0.725 ]]\n",
      "\n",
      " END OF CAFE CATEGORY \n",
      " \n",
      "\n",
      "\n",
      " ======================================================================= \n",
      "\n",
      "\n",
      "For Category Automobile: \n",
      " \n",
      "\n",
      "Accuracy of training data:  0.9625\n",
      "Accuracy on Testing data 0.9025\n",
      "Accuracy score on predicted data 0.9025\n",
      "\n",
      "Classification report : \n",
      "               precision    recall  f1-score   support\n",
      "\n",
      "    Negative       0.90      0.84      0.87       158\n",
      "    Positive       0.90      0.94      0.92       242\n",
      "\n",
      "    accuracy                           0.90       400\n",
      "   macro avg       0.90      0.89      0.90       400\n",
      "weighted avg       0.90      0.90      0.90       400\n",
      "\n",
      "\n",
      "Confusion Matrix : \n",
      " [[133  25]\n",
      " [ 14 228]]\n",
      "\n",
      "Confusion Matrix : By percentage\n",
      " [[0.3325 0.0625]\n",
      " [0.035  0.57  ]]\n",
      "\n",
      "END OF AUTOMOBILE CATEGORY \n",
      " \n",
      "\n",
      "\n",
      " ======================================================================= \n",
      "\n",
      "For Category Fashion: \n",
      " \n",
      "\n",
      "Accuracy of training data:  0.94875\n",
      "Accuracy on Testing data 0.8425\n",
      "Accuracy score on predicted data 0.8425\n",
      "\n",
      "Classification report : \n",
      "               precision    recall  f1-score   support\n",
      "\n",
      "    Negative       0.95      0.64      0.76       159\n",
      "    Positive       0.80      0.98      0.88       241\n",
      "\n",
      "    accuracy                           0.84       400\n",
      "   macro avg       0.88      0.81      0.82       400\n",
      "weighted avg       0.86      0.84      0.83       400\n",
      "\n",
      "\n",
      "Confusion Matrix : \n",
      " [[101  58]\n",
      " [  5 236]]\n",
      "\n",
      "Confusion Matrix : By percentage\n",
      " [[0.2525 0.145 ]\n",
      " [0.0125 0.59  ]]\n",
      "\n",
      "END OF FASHION CATEGORY \n",
      " \n",
      "\n",
      "\n",
      " ======================================================================= \n",
      "\n"
     ]
    }
   ],
   "source": [
    "print(\"PREDICTING using Logistic Regression for all the 3 categories\")\n",
    "\n",
    "print(\"\\n ======================================================================= \\n\")\n",
    "print(\"For Category Cafe: \\n \\n\")\n",
    "fit_and_predict_evaluate_lg(df_cafe_clean)\n",
    "print(\"\\n END OF CAFE CATEGORY \\n \\n\")\n",
    "\n",
    "print(\"\\n ======================================================================= \\n\")\n",
    "print(\"\\nFor Category Automobile: \\n \\n\")\n",
    "fit_and_predict_evaluate_lg(df_auto_clean)\n",
    "print(\"\\nEND OF AUTOMOBILE CATEGORY \\n \\n\")\n",
    "\n",
    "print(\"\\n ======================================================================= \\n\")\n",
    "print(\"For Category Fashion: \\n \\n\")\n",
    "fit_and_predict_evaluate_lg(df_fash_clean)\n",
    "print(\"\\nEND OF FASHION CATEGORY \\n \\n\")\n",
    "\n",
    "print(\"\\n ======================================================================= \\n\")"
   ]
  },
  {
   "cell_type": "markdown",
   "metadata": {},
   "source": [
    "Overall, Logistic Regression has a good accuracy on all the 3 categories. Automobile category has the highest accuracy(i.e., 0.90) for Logistic Regression and Cafe has the lowest accruacy(i.e, 0.84). Whereas, for Fashion category the accuracy is in between automobile and cafe. "
   ]
  },
  {
   "cell_type": "markdown",
   "metadata": {},
   "source": [
    "##### b. Fitting the vectorised data with 3 flavours of Naive Bayes Classifier"
   ]
  },
  {
   "cell_type": "code",
   "execution_count": 38,
   "metadata": {},
   "outputs": [],
   "source": [
    "# A function to fit and predict using a Naive Bayes Classifier\n",
    "\n",
    "def fit_and_predict_evaluate_nb(df_c):    \n",
    "    vectorised_reviews_X = vectorise_reviews(df_c)\n",
    "    target_y = df_c.class_label\n",
    "    #vectorised_reviews_X\n",
    "    X_train, X_test, y_train, y_test = train_test_split(vectorised_reviews_X, target_y, random_state=123, test_size=0.2)\n",
    "\n",
    "    #X_train\n",
    "    mnb = MultinomialNB().fit(X_train, y_train)\n",
    "    bnb = BernoulliNB().fit(X_train, y_train)\n",
    "    gnb = GaussianNB().fit(X_train, y_train)\n",
    "    \n",
    "    #predict\n",
    "    y_predicted_mnb = mnb.predict(X_test)\n",
    "    y_predicted_bnb = bnb.predict(X_test)\n",
    "    y_predicted_gnb = gnb.predict(X_test)\n",
    "    \n",
    "    #evaluation\n",
    "    print('Accuracy score on predicted data MultinomialNB', accuracy_score(y_test, y_predicted_mnb))\n",
    "    print('Accuracy score on predicted data BernoulliNB', accuracy_score(y_test, y_predicted_bnb))\n",
    "    print('Accuracy score on predicted data GaussianNB', accuracy_score(y_test, y_predicted_gnb))\n",
    "    print('Accuracy of training data: ', mnb.score(X_train, y_train))\n",
    "    print('Accuracy on Testing data', mnb.score(X_test, y_test))\n",
    "    print(\"\\nClassification report MultinomialNB: \\n\", classification_report(y_test, y_predicted_mnb))\n",
    "    print(\"\\nClassification report BernoulliNB: \\n\", classification_report(y_test, y_predicted_bnb))\n",
    "    print(\"\\nClassification report GaussianNB: \\n\", classification_report(y_test, y_predicted_gnb))\n",
    "    print(\"\\nConfusion Matrix MultinomialNB: \\n\", confusion_matrix(y_test, y_predicted_mnb))\n",
    "    print(\"\\nConfusion Matrix BernoulliNB: \\n\", confusion_matrix(y_test, y_predicted_bnb))\n",
    "    print(\"\\nConfusion Matrix GaussianNB: \\n\", confusion_matrix(y_test, y_predicted_gnb))\n",
    "    print(\"\\nConfusion Matrix MultinomialNB: By percentage\\n\", confusion_matrix(y_test, y_predicted_mnb)/len(y_test))\n",
    "    print(\"\\nConfusion Matrix BernoulliNB: By percentage\\n\", confusion_matrix(y_test, y_predicted_bnb)/len(y_test))\n",
    "    print(\"\\nConfusion Matrix GaussianNB: By percentage\\n\", confusion_matrix(y_test, y_predicted_gnb)/len(y_test))\n"
   ]
  },
  {
   "cell_type": "code",
   "execution_count": 39,
   "metadata": {},
   "outputs": [
    {
     "name": "stdout",
     "output_type": "stream",
     "text": [
      "PREDICTING using Naive Bayes for all the 3 categories\n",
      "\n",
      " ======================================================================= \n",
      "\n",
      "\n",
      " For Category Cafe: \n",
      " \n",
      "\n",
      "Accuracy score on predicted data MultinomialNB 0.7625\n",
      "Accuracy score on predicted data BernoulliNB 0.795\n",
      "Accuracy score on predicted data GaussianNB 0.6125\n",
      "Accuracy of training data:  0.76625\n",
      "Accuracy on Testing data 0.7625\n",
      "\n",
      "Classification report MultinomialNB: \n",
      "               precision    recall  f1-score   support\n",
      "\n",
      "    Negative       1.00      0.05      0.10       100\n",
      "    Positive       0.76      1.00      0.86       300\n",
      "\n",
      "    accuracy                           0.76       400\n",
      "   macro avg       0.88      0.53      0.48       400\n",
      "weighted avg       0.82      0.76      0.67       400\n",
      "\n",
      "\n",
      "Classification report BernoulliNB: \n",
      "               precision    recall  f1-score   support\n",
      "\n",
      "    Negative       0.66      0.38      0.48       100\n",
      "    Positive       0.82      0.93      0.87       300\n",
      "\n",
      "    accuracy                           0.80       400\n",
      "   macro avg       0.74      0.66      0.68       400\n",
      "weighted avg       0.78      0.80      0.77       400\n",
      "\n",
      "\n",
      "Classification report GaussianNB: \n",
      "               precision    recall  f1-score   support\n",
      "\n",
      "    Negative       0.31      0.44      0.36       100\n",
      "    Positive       0.78      0.67      0.72       300\n",
      "\n",
      "    accuracy                           0.61       400\n",
      "   macro avg       0.54      0.56      0.54       400\n",
      "weighted avg       0.66      0.61      0.63       400\n",
      "\n",
      "\n",
      "Confusion Matrix MultinomialNB: \n",
      " [[  5  95]\n",
      " [  0 300]]\n",
      "\n",
      "Confusion Matrix BernoulliNB: \n",
      " [[ 38  62]\n",
      " [ 20 280]]\n",
      "\n",
      "Confusion Matrix GaussianNB: \n",
      " [[ 44  56]\n",
      " [ 99 201]]\n",
      "\n",
      "Confusion Matrix MultinomialNB: By percentage\n",
      " [[0.0125 0.2375]\n",
      " [0.     0.75  ]]\n",
      "\n",
      "Confusion Matrix BernoulliNB: By percentage\n",
      " [[0.095 0.155]\n",
      " [0.05  0.7  ]]\n",
      "\n",
      "Confusion Matrix GaussianNB: By percentage\n",
      " [[0.11   0.14  ]\n",
      " [0.2475 0.5025]]\n",
      "\n",
      " END OF CAFE CATEGORY \n",
      " \n",
      "\n",
      "\n",
      " ======================================================================= \n",
      "\n",
      "\n",
      " For Category Automobile: \n",
      " \n",
      "\n",
      "Accuracy score on predicted data MultinomialNB 0.835\n",
      "Accuracy score on predicted data BernoulliNB 0.795\n",
      "Accuracy score on predicted data GaussianNB 0.7725\n",
      "Accuracy of training data:  0.934375\n",
      "Accuracy on Testing data 0.835\n",
      "\n",
      "Classification report MultinomialNB: \n",
      "               precision    recall  f1-score   support\n",
      "\n",
      "    Negative       0.98      0.60      0.74       160\n",
      "    Positive       0.79      0.99      0.88       240\n",
      "\n",
      "    accuracy                           0.83       400\n",
      "   macro avg       0.88      0.80      0.81       400\n",
      "weighted avg       0.86      0.83      0.82       400\n",
      "\n",
      "\n",
      "Classification report BernoulliNB: \n",
      "               precision    recall  f1-score   support\n",
      "\n",
      "    Negative       0.85      0.59      0.70       160\n",
      "    Positive       0.77      0.93      0.84       240\n",
      "\n",
      "    accuracy                           0.80       400\n",
      "   macro avg       0.81      0.76      0.77       400\n",
      "weighted avg       0.80      0.80      0.79       400\n",
      "\n",
      "\n",
      "Classification report GaussianNB: \n",
      "               precision    recall  f1-score   support\n",
      "\n",
      "    Negative       0.72      0.70      0.71       160\n",
      "    Positive       0.80      0.82      0.81       240\n",
      "\n",
      "    accuracy                           0.77       400\n",
      "   macro avg       0.76      0.76      0.76       400\n",
      "weighted avg       0.77      0.77      0.77       400\n",
      "\n",
      "\n",
      "Confusion Matrix MultinomialNB: \n",
      " [[ 96  64]\n",
      " [  2 238]]\n",
      "\n",
      "Confusion Matrix BernoulliNB: \n",
      " [[ 95  65]\n",
      " [ 17 223]]\n",
      "\n",
      "Confusion Matrix GaussianNB: \n",
      " [[112  48]\n",
      " [ 43 197]]\n",
      "\n",
      "Confusion Matrix MultinomialNB: By percentage\n",
      " [[0.24  0.16 ]\n",
      " [0.005 0.595]]\n",
      "\n",
      "Confusion Matrix BernoulliNB: By percentage\n",
      " [[0.2375 0.1625]\n",
      " [0.0425 0.5575]]\n",
      "\n",
      "Confusion Matrix GaussianNB: By percentage\n",
      " [[0.28   0.12  ]\n",
      " [0.1075 0.4925]]\n",
      "\n",
      " END OF AUTOMOBILE CATEGORY \n",
      " \n",
      "\n",
      "\n",
      " ======================================================================= \n",
      "\n",
      "\n",
      " For Category Fashion: \n",
      " \n",
      "\n",
      "Accuracy score on predicted data MultinomialNB 0.78\n",
      "Accuracy score on predicted data BernoulliNB 0.7825\n",
      "Accuracy score on predicted data GaussianNB 0.695\n",
      "Accuracy of training data:  0.89125\n",
      "Accuracy on Testing data 0.78\n",
      "\n",
      "Classification report MultinomialNB: \n",
      "               precision    recall  f1-score   support\n",
      "\n",
      "    Negative       0.97      0.44      0.61       154\n",
      "    Positive       0.74      0.99      0.85       246\n",
      "\n",
      "    accuracy                           0.78       400\n",
      "   macro avg       0.86      0.72      0.73       400\n",
      "weighted avg       0.83      0.78      0.75       400\n",
      "\n",
      "\n",
      "Classification report BernoulliNB: \n",
      "               precision    recall  f1-score   support\n",
      "\n",
      "    Negative       0.85      0.53      0.65       154\n",
      "    Positive       0.76      0.94      0.84       246\n",
      "\n",
      "    accuracy                           0.78       400\n",
      "   macro avg       0.81      0.73      0.75       400\n",
      "weighted avg       0.80      0.78      0.77       400\n",
      "\n",
      "\n",
      "Classification report GaussianNB: \n",
      "               precision    recall  f1-score   support\n",
      "\n",
      "    Negative       0.59      0.71      0.64       154\n",
      "    Positive       0.79      0.68      0.73       246\n",
      "\n",
      "    accuracy                           0.69       400\n",
      "   macro avg       0.69      0.70      0.69       400\n",
      "weighted avg       0.71      0.69      0.70       400\n",
      "\n",
      "\n",
      "Confusion Matrix MultinomialNB: \n",
      " [[ 68  86]\n",
      " [  2 244]]\n",
      "\n",
      "Confusion Matrix BernoulliNB: \n",
      " [[ 81  73]\n",
      " [ 14 232]]\n",
      "\n",
      "Confusion Matrix GaussianNB: \n",
      " [[110  44]\n",
      " [ 78 168]]\n",
      "\n",
      "Confusion Matrix MultinomialNB: By percentage\n",
      " [[0.17  0.215]\n",
      " [0.005 0.61 ]]\n",
      "\n",
      "Confusion Matrix BernoulliNB: By percentage\n",
      " [[0.2025 0.1825]\n",
      " [0.035  0.58  ]]\n",
      "\n",
      "Confusion Matrix GaussianNB: By percentage\n",
      " [[0.275 0.11 ]\n",
      " [0.195 0.42 ]]\n",
      "\n",
      " END OF FASHION CATEGORY \n",
      " \n",
      "\n",
      "\n",
      " ======================================================================= \n",
      "\n"
     ]
    }
   ],
   "source": [
    "print(\"PREDICTING using Naive Bayes for all the 3 categories\")\n",
    "\n",
    "print(\"\\n ======================================================================= \\n\")\n",
    "print(\"\\n For Category Cafe: \\n \\n\")\n",
    "fit_and_predict_evaluate_nb(df_cafe_clean)\n",
    "print(\"\\n END OF CAFE CATEGORY \\n \\n\")\n",
    "\n",
    "print(\"\\n ======================================================================= \\n\")\n",
    "print(\"\\n For Category Automobile: \\n \\n\")\n",
    "fit_and_predict_evaluate_nb(df_auto_clean)\n",
    "print(\"\\n END OF AUTOMOBILE CATEGORY \\n \\n\")\n",
    "\n",
    "print(\"\\n ======================================================================= \\n\")\n",
    "print(\"\\n For Category Fashion: \\n \\n\")\n",
    "fit_and_predict_evaluate_nb(df_fash_clean)\n",
    "print(\"\\n END OF FASHION CATEGORY \\n \\n\")\n",
    "\n",
    "print(\"\\n ======================================================================= \\n\")"
   ]
  },
  {
   "cell_type": "markdown",
   "metadata": {},
   "source": [
    "##### c. Fitting the vectorised data with Random Forest"
   ]
  },
  {
   "cell_type": "code",
   "execution_count": 40,
   "metadata": {},
   "outputs": [],
   "source": [
    "# A function to fit and predict using a Random Forest Classifier\n",
    "def fit_and_predict_evaluate_rf(df_c):    \n",
    "    vectorised_reviews_X = vectorise_reviews(df_c)\n",
    "    target_y = df_c.class_label\n",
    "    #vectorised_reviews_X\n",
    "    X_train, X_test, y_train, y_test = train_test_split(vectorised_reviews_X, target_y, random_state=123, test_size=0.2)\n",
    "    \n",
    "    #X_train\n",
    "    #best parameters: bootstrap=True, max_depth=80, max_features = 2, min_samples_leaf=3, min_samples_split=8, n_estimators=100\n",
    "    rand = RandomForestClassifier(max_depth=80, min_samples_leaf=3, min_samples_split=8, n_estimators=200).fit(X_train, y_train)\n",
    "    y_predicted_rf = rand.predict(X_test)\n",
    "    print('Accuracy score on predicted data Random Forest', accuracy_score(y_test, y_predicted_rf))\n",
    "    print('Accuracy of training data: ', rand.score(X_train, y_train))\n",
    "    print('Accuracy on Testing data', rand.score(X_test, y_test))\n",
    "    print(\"\\nClassification report Random Forest: \\n\", classification_report(y_test, y_predicted_rf))\n",
    "    print(\"\\nConfusion Matrix Random Forest: \\n\", confusion_matrix(y_test, y_predicted_rf))\n",
    "    print(\"\\nConfusion Matrix Random Forest: By percentage\\n\", confusion_matrix(y_test, y_predicted_rf)/len(y_test))\n"
   ]
  },
  {
   "cell_type": "code",
   "execution_count": 41,
   "metadata": {},
   "outputs": [
    {
     "name": "stdout",
     "output_type": "stream",
     "text": [
      "PREDICTING using Random Forest Classifier for all the 3 categories\n",
      "\n",
      " ======================================================================= \n",
      "\n",
      "\n",
      " For Category Cafe: \n",
      " \n",
      "\n",
      "Accuracy score on predicted data Random Forest 0.8175\n",
      "Accuracy of training data:  0.915\n",
      "Accuracy on Testing data 0.8175\n",
      "\n",
      "Classification report Random Forest: \n",
      "               precision    recall  f1-score   support\n",
      "\n",
      "    Negative       0.94      0.29      0.44       100\n",
      "    Positive       0.81      0.99      0.89       300\n",
      "\n",
      "    accuracy                           0.82       400\n",
      "   macro avg       0.87      0.64      0.67       400\n",
      "weighted avg       0.84      0.82      0.78       400\n",
      "\n",
      "\n",
      "Confusion Matrix Random Forest: \n",
      " [[ 29  71]\n",
      " [  2 298]]\n",
      "\n",
      "Confusion Matrix Random Forest: By percentage\n",
      " [[0.0725 0.1775]\n",
      " [0.005  0.745 ]]\n",
      "\n",
      " END OF CAFE CATEGORY \n",
      " \n",
      "\n",
      "\n",
      " ======================================================================= \n",
      "\n",
      "\n",
      " For Category Automobile: \n",
      " \n",
      "\n",
      "Accuracy score on predicted data Random Forest 0.8725\n",
      "Accuracy of training data:  0.9625\n",
      "Accuracy on Testing data 0.8725\n",
      "\n",
      "Classification report Random Forest: \n",
      "               precision    recall  f1-score   support\n",
      "\n",
      "    Negative       0.93      0.74      0.82       160\n",
      "    Positive       0.85      0.96      0.90       240\n",
      "\n",
      "    accuracy                           0.87       400\n",
      "   macro avg       0.89      0.85      0.86       400\n",
      "weighted avg       0.88      0.87      0.87       400\n",
      "\n",
      "\n",
      "Confusion Matrix Random Forest: \n",
      " [[118  42]\n",
      " [  9 231]]\n",
      "\n",
      "Confusion Matrix Random Forest: By percentage\n",
      " [[0.295  0.105 ]\n",
      " [0.0225 0.5775]]\n",
      "\n",
      " END OF AUTOMOBILE CATEGORY \n",
      " \n",
      "\n",
      "\n",
      " ======================================================================= \n",
      "\n",
      "\n",
      " For Category Fashion: \n",
      " \n",
      "\n",
      "Accuracy score on predicted data Random Forest 0.8225\n",
      "Accuracy of training data:  0.95875\n",
      "Accuracy on Testing data 0.8225\n",
      "\n",
      "Classification report Random Forest: \n",
      "               precision    recall  f1-score   support\n",
      "\n",
      "    Negative       0.90      0.61      0.73       154\n",
      "    Positive       0.80      0.96      0.87       246\n",
      "\n",
      "    accuracy                           0.82       400\n",
      "   macro avg       0.85      0.78      0.80       400\n",
      "weighted avg       0.83      0.82      0.81       400\n",
      "\n",
      "\n",
      "Confusion Matrix Random Forest: \n",
      " [[ 94  60]\n",
      " [ 11 235]]\n",
      "\n",
      "Confusion Matrix Random Forest: By percentage\n",
      " [[0.235  0.15  ]\n",
      " [0.0275 0.5875]]\n",
      "\n",
      " END OF FASHION CATEGORY \n",
      " \n",
      "\n",
      "\n",
      " ======================================================================= \n",
      "\n"
     ]
    }
   ],
   "source": [
    "print(\"PREDICTING using Random Forest Classifier for all the 3 categories\")\n",
    "\n",
    "print(\"\\n ======================================================================= \\n\")\n",
    "print(\"\\n For Category Cafe: \\n \\n\")\n",
    "fit_and_predict_evaluate_rf(df_cafe_clean)\n",
    "print(\"\\n END OF CAFE CATEGORY \\n \\n\")\n",
    "\n",
    "print(\"\\n ======================================================================= \\n\")\n",
    "print(\"\\n For Category Automobile: \\n \\n\")\n",
    "fit_and_predict_evaluate_rf(df_auto_clean)\n",
    "print(\"\\n END OF AUTOMOBILE CATEGORY \\n \\n\")\n",
    "\n",
    "print(\"\\n ======================================================================= \\n\")\n",
    "print(\"\\n For Category Fashion: \\n \\n\")\n",
    "fit_and_predict_evaluate_rf(df_fash_clean)\n",
    "print(\"\\n END OF FASHION CATEGORY \\n \\n\")\n",
    "\n",
    "print(\"\\n ======================================================================= \\n\")"
   ]
  },
  {
   "cell_type": "markdown",
   "metadata": {},
   "source": [
    "### TASK 3: Evaluation"
   ]
  },
  {
   "cell_type": "code",
   "execution_count": 42,
   "metadata": {},
   "outputs": [],
   "source": [
    "\n",
    "# a function to pass the three categories A, B, and C. This function takes the vetors of category A and fits the Category B and C. \n",
    "# And the Machine Learning model fits the Category A as Train data and predicts on the features of Category B and C( Test Data )\n",
    "def predict_on_test(cat_a, cat_b, cat_c):\n",
    "    #vect = TfidfVectorizer(ngram_range=(1, 3), max_features=None,stop_words=ENGLISH_STOP_WORDS).fit(cat_a.lemmatized_review)\n",
    "    vect = TfidfVectorizer(ngram_range=(1, 3), max_features=None,stop_words=ENGLISH_STOP_WORDS, lowercase=True,token_pattern='(?u)\\\\b\\\\w\\\\w+\\\\b', smooth_idf=True).fit(cat_a.lemmatized_review)\n",
    "    # Transform the vectorizer\n",
    "    X_cat_a_txt = vect.transform(cat_a.lemmatized_review)\n",
    "    X_cat_b_txt = vect.transform(cat_b.lemmatized_review)\n",
    "    X_cat_c_txt = vect.transform(cat_c.lemmatized_review)\n",
    "\n",
    "    # Transform to a data frame and specify the column names\n",
    "    X_cat_a_features = pd.DataFrame(X_cat_a_txt.toarray(), columns=vect.get_feature_names())\n",
    "    X_cat_b_features = pd.DataFrame(X_cat_b_txt.toarray(), columns=vect.get_feature_names())\n",
    "    X_cat_c_features = pd.DataFrame(X_cat_c_txt.toarray(), columns=vect.get_feature_names())\n",
    "    \n",
    "    #X_train\n",
    "    X_cat_a_train = X_cat_a_features\n",
    "    \n",
    "    #y_train\n",
    "    y_cat_a_train = cat_a['class_label']\n",
    "\n",
    "\n",
    "    # Build a logistic regression model and calculate the accuracy\n",
    "    log_reg = LogisticRegression(solver='lbfgs').fit(X_cat_a_train, y_cat_a_train)\n",
    "    \n",
    "    #X_test for Category B\n",
    "    X_test_cat_b_features = X_cat_b_features\n",
    "    #y_test for category B\n",
    "    y_test_cat_b = cat_b['class_label']\n",
    "\n",
    "    #X_test for Category C\n",
    "    X_test_cat_c_features = X_cat_c_features\n",
    "    #y_test for category C\n",
    "    y_test_cat_c = cat_c['class_label']\n",
    "\n",
    "    #predicting on Category B using LogisticRegression Classifier\n",
    "    y_predict_cat_b = log_reg.predict(X_test_cat_b_features)\n",
    "    #predicting on Category C using LogisticRegression Classifier\n",
    "    y_predict_cat_c = log_reg.predict(X_test_cat_c_features)\n",
    "\n",
    "    #accuracy score for\n",
    "    accuracy_cat_b = accuracy_score(y_test_cat_b, y_predict_cat_b)\n",
    "    accuracy_cat_c = accuracy_score(y_test_cat_c, y_predict_cat_c)\n",
    "\n",
    "    #Evaluating the model\n",
    "    #print('\\n Accuracy of training data: \\n', log_reg.score(X_cat_a_train, y_cat_a_train))\n",
    "    print(\"\\n ======================================================================= \\n\")\n",
    "    print(\"\\n For Category B: \\n \\n\")\n",
    "    print('\\n Accuracy score on predicted data for Category B: \\n', accuracy_score(y_test_cat_b, y_predict_cat_b))\n",
    "    print(\"\\nClassification report for Category B: \\n\", classification_report(y_test_cat_b, y_predict_cat_b))\n",
    "    print(\"\\nConfusion Matrix for Category B: \\n\", confusion_matrix(y_test_cat_b, y_predict_cat_b))\n",
    "    print(\"\\nConfusion Matrix for Category B: By percentage\\n\", confusion_matrix(y_test_cat_b, y_predict_cat_b)/len(y_test_cat_b))\n",
    "    print(\"\\n END OF CATEGORY B\\n \\n\")\n",
    "    print(\"\\n ======================================================================= \\n\")\n",
    "    print(\"\\n For Category C: \\n \\n\")\n",
    "    print('\\n Accuracy score on predicted data for Category C: \\n', accuracy_score(y_test_cat_c, y_predict_cat_c))\n",
    "    print(\"\\nClassification report for Category C: \\n\", classification_report(y_test_cat_c, y_predict_cat_c))\n",
    "    print(\"\\nConfusion Matrix for Category C: \\n\", confusion_matrix(y_test_cat_c, y_predict_cat_c))\n",
    "    print(\"\\nConfusion Matrix for Category C: By percentage\\n\", confusion_matrix(y_test_cat_c, y_predict_cat_c)/len(y_test_cat_c))\n",
    "    print(\"\\n END OF CATEGORY C\\n \\n\")\n",
    "    print(\"\\n ======================================================================= \\n\")\n"
   ]
  },
  {
   "cell_type": "markdown",
   "metadata": {},
   "source": [
    "#### Evaluating using CATEGORY A : CAFE on CATEGORY B: AUTOMOBILE and CATEGORY C: FASHION"
   ]
  },
  {
   "cell_type": "code",
   "execution_count": 43,
   "metadata": {},
   "outputs": [
    {
     "name": "stdout",
     "output_type": "stream",
     "text": [
      "\n",
      " ======================================================================= \n",
      "\n",
      "\n",
      " For Category B: \n",
      " \n",
      "\n",
      "\n",
      " Accuracy score on predicted data for Category B: \n",
      " 0.7405\n",
      "\n",
      "Classification report for Category B: \n",
      "               precision    recall  f1-score   support\n",
      "\n",
      "    Negative       0.83      0.43      0.57       788\n",
      "    Positive       0.72      0.94      0.81      1212\n",
      "\n",
      "    accuracy                           0.74      2000\n",
      "   macro avg       0.77      0.69      0.69      2000\n",
      "weighted avg       0.76      0.74      0.72      2000\n",
      "\n",
      "\n",
      "Confusion Matrix for Category B: \n",
      " [[ 341  447]\n",
      " [  72 1140]]\n",
      "\n",
      "Confusion Matrix for Category B: By percentage\n",
      " [[0.1705 0.2235]\n",
      " [0.036  0.57  ]]\n",
      "\n",
      " END OF CATEGORY B\n",
      " \n",
      "\n",
      "\n",
      " ======================================================================= \n",
      "\n",
      "\n",
      " For Category C: \n",
      " \n",
      "\n",
      "\n",
      " Accuracy score on predicted data for Category C: \n",
      " 0.739\n",
      "\n",
      "Classification report for Category C: \n",
      "               precision    recall  f1-score   support\n",
      "\n",
      "    Negative       0.95      0.36      0.52       795\n",
      "    Positive       0.70      0.99      0.82      1205\n",
      "\n",
      "    accuracy                           0.74      2000\n",
      "   macro avg       0.83      0.67      0.67      2000\n",
      "weighted avg       0.80      0.74      0.70      2000\n",
      "\n",
      "\n",
      "Confusion Matrix for Category C: \n",
      " [[ 287  508]\n",
      " [  14 1191]]\n",
      "\n",
      "Confusion Matrix for Category C: By percentage\n",
      " [[0.1435 0.254 ]\n",
      " [0.007  0.5955]]\n",
      "\n",
      " END OF CATEGORY C\n",
      " \n",
      "\n",
      "\n",
      " ======================================================================= \n",
      "\n"
     ]
    }
   ],
   "source": [
    "predict_on_test(df_cafe_clean, df_auto_clean, df_fash_clean)"
   ]
  },
  {
   "cell_type": "markdown",
   "metadata": {},
   "source": [
    "#### Evaluating using CATEGORY A : AUTOMOBILE on CATEGORY B: FASHION and CATEGORY C: CAFE"
   ]
  },
  {
   "cell_type": "code",
   "execution_count": 44,
   "metadata": {},
   "outputs": [
    {
     "name": "stdout",
     "output_type": "stream",
     "text": [
      "\n",
      " ======================================================================= \n",
      "\n",
      "\n",
      " For Category B: \n",
      " \n",
      "\n",
      "\n",
      " Accuracy score on predicted data for Category B: \n",
      " 0.822\n",
      "\n",
      "Classification report for Category B: \n",
      "               precision    recall  f1-score   support\n",
      "\n",
      "    Negative       0.89      0.63      0.74       795\n",
      "    Positive       0.79      0.95      0.87      1205\n",
      "\n",
      "    accuracy                           0.82      2000\n",
      "   macro avg       0.84      0.79      0.80      2000\n",
      "weighted avg       0.83      0.82      0.81      2000\n",
      "\n",
      "\n",
      "Confusion Matrix for Category B: \n",
      " [[ 498  297]\n",
      " [  59 1146]]\n",
      "\n",
      "Confusion Matrix for Category B: By percentage\n",
      " [[0.249  0.1485]\n",
      " [0.0295 0.573 ]]\n",
      "\n",
      " END OF CATEGORY B\n",
      " \n",
      "\n",
      "\n",
      " ======================================================================= \n",
      "\n",
      "\n",
      " For Category C: \n",
      " \n",
      "\n",
      "\n",
      " Accuracy score on predicted data for Category C: \n",
      " 0.8065\n",
      "\n",
      "Classification report for Category C: \n",
      "               precision    recall  f1-score   support\n",
      "\n",
      "    Negative       0.86      0.33      0.48       538\n",
      "    Positive       0.80      0.98      0.88      1462\n",
      "\n",
      "    accuracy                           0.81      2000\n",
      "   macro avg       0.83      0.66      0.68      2000\n",
      "weighted avg       0.82      0.81      0.77      2000\n",
      "\n",
      "\n",
      "Confusion Matrix for Category C: \n",
      " [[ 180  358]\n",
      " [  29 1433]]\n",
      "\n",
      "Confusion Matrix for Category C: By percentage\n",
      " [[0.09   0.179 ]\n",
      " [0.0145 0.7165]]\n",
      "\n",
      " END OF CATEGORY C\n",
      " \n",
      "\n",
      "\n",
      " ======================================================================= \n",
      "\n"
     ]
    }
   ],
   "source": [
    "predict_on_test(df_auto_clean, df_fash_clean, df_cafe_clean)"
   ]
  },
  {
   "cell_type": "markdown",
   "metadata": {},
   "source": [
    "#### Evaluating using CATEGORY A : FASHION on CATEGORY B: CAFE and CATEGORY C: AUTOMOBILE"
   ]
  },
  {
   "cell_type": "code",
   "execution_count": 45,
   "metadata": {},
   "outputs": [
    {
     "name": "stdout",
     "output_type": "stream",
     "text": [
      "\n",
      " ======================================================================= \n",
      "\n",
      "\n",
      " For Category B: \n",
      " \n",
      "\n",
      "\n",
      " Accuracy score on predicted data for Category B: \n",
      " 0.8385\n",
      "\n",
      "Classification report for Category B: \n",
      "               precision    recall  f1-score   support\n",
      "\n",
      "    Negative       0.90      0.45      0.60       538\n",
      "    Positive       0.83      0.98      0.90      1462\n",
      "\n",
      "    accuracy                           0.84      2000\n",
      "   macro avg       0.86      0.72      0.75      2000\n",
      "weighted avg       0.85      0.84      0.82      2000\n",
      "\n",
      "\n",
      "Confusion Matrix for Category B: \n",
      " [[ 242  296]\n",
      " [  27 1435]]\n",
      "\n",
      "Confusion Matrix for Category B: By percentage\n",
      " [[0.121  0.148 ]\n",
      " [0.0135 0.7175]]\n",
      "\n",
      " END OF CATEGORY B\n",
      " \n",
      "\n",
      "\n",
      " ======================================================================= \n",
      "\n",
      "\n",
      " For Category C: \n",
      " \n",
      "\n",
      "\n",
      " Accuracy score on predicted data for Category C: \n",
      " 0.8525\n",
      "\n",
      "Classification report for Category C: \n",
      "               precision    recall  f1-score   support\n",
      "\n",
      "    Negative       0.86      0.75      0.80       788\n",
      "    Positive       0.85      0.92      0.88      1212\n",
      "\n",
      "    accuracy                           0.85      2000\n",
      "   macro avg       0.85      0.83      0.84      2000\n",
      "weighted avg       0.85      0.85      0.85      2000\n",
      "\n",
      "\n",
      "Confusion Matrix for Category C: \n",
      " [[ 589  199]\n",
      " [  96 1116]]\n",
      "\n",
      "Confusion Matrix for Category C: By percentage\n",
      " [[0.2945 0.0995]\n",
      " [0.048  0.558 ]]\n",
      "\n",
      " END OF CATEGORY C\n",
      " \n",
      "\n",
      "\n",
      " ======================================================================= \n",
      "\n"
     ]
    }
   ],
   "source": [
    "predict_on_test(df_fash_clean, df_cafe_clean, df_auto_clean)"
   ]
  },
  {
   "cell_type": "markdown",
   "metadata": {},
   "source": [
    "A final conclusion on the evaluation is that among the three classifiers Logistic Regression performs reasonably well on the reviews compared to Naive Bayes and Random Forests."
   ]
  },
  {
   "cell_type": "markdown",
   "metadata": {},
   "source": [
    "### Further Analysis:\n",
    "\n",
    " As part of the further analyis, the project can be extended by detecting the languages of the review(since the reviews scraped contain reviews written in french, spanish, and other languages ) and creating more fearures that could help us predict the emotion better. We can make use of wordclouds to extract the most repeated words in all the reviews and add them to the list of stop words. This helps us to remove the words which doesn't add to the emotion of the sentences or reviews. And also, we can make use of stemming technique, which helps to improve the tokenization speed. "
   ]
  },
  {
   "cell_type": "markdown",
   "metadata": {},
   "source": [
    "### END OF ASSIGNMENT"
   ]
  },
  {
   "cell_type": "markdown",
   "metadata": {},
   "source": [
    "The following techniques uses the third party modules which are not specified in the guidelines. So, I request the evaluator to consider only the part above this for evaluation."
   ]
  },
  {
   "cell_type": "markdown",
   "metadata": {},
   "source": [
    "I have applied these techniques only on the Automobile category."
   ]
  },
  {
   "cell_type": "code",
   "execution_count": 46,
   "metadata": {},
   "outputs": [
    {
     "name": "stdout",
     "output_type": "stream",
     "text": [
      "['en' 'fr']\n"
     ]
    }
   ],
   "source": [
    "#language detection\n",
    "from langdetect import detect_langs\n",
    "\n",
    "languages_automotive = []\n",
    "\n",
    "for row in range(len(df_auto_clean)):\n",
    "    languages_automotive.append(detect_langs(df_auto_clean.loc[row, 'lemmatized_review']))\n",
    "    \n",
    "languages_extracted_automovtive = [str(lang).split(':')[0][1:] for lang in languages_automotive]\n",
    "\n",
    "df_auto_clean['language'] = languages_extracted_automovtive\n",
    "\n",
    "print(df_auto_clean.language.unique())"
   ]
  },
  {
   "cell_type": "code",
   "execution_count": 47,
   "metadata": {},
   "outputs": [
    {
     "data": {
      "text/html": [
       "<div>\n",
       "<style scoped>\n",
       "    .dataframe tbody tr th:only-of-type {\n",
       "        vertical-align: middle;\n",
       "    }\n",
       "\n",
       "    .dataframe tbody tr th {\n",
       "        vertical-align: top;\n",
       "    }\n",
       "\n",
       "    .dataframe thead th {\n",
       "        text-align: right;\n",
       "    }\n",
       "</style>\n",
       "<table border=\"1\" class=\"dataframe\">\n",
       "  <thead>\n",
       "    <tr style=\"text-align: right;\">\n",
       "      <th></th>\n",
       "      <th>review_rating</th>\n",
       "      <th>review_text</th>\n",
       "      <th>class_label</th>\n",
       "      <th>review_tokenised</th>\n",
       "      <th>len_tokens</th>\n",
       "      <th>lemmatized_review</th>\n",
       "      <th>language</th>\n",
       "    </tr>\n",
       "  </thead>\n",
       "  <tbody>\n",
       "    <tr>\n",
       "      <td>1473</td>\n",
       "      <td>5</td>\n",
       "      <td>gosh i love this bank today i stopped in to ge...</td>\n",
       "      <td>Positive</td>\n",
       "      <td>[gosh, i, love, this, bank, today, i, stopped,...</td>\n",
       "      <td>82</td>\n",
       "      <td>gosh i love this bank today i stopped in to ge...</td>\n",
       "      <td>en</td>\n",
       "    </tr>\n",
       "  </tbody>\n",
       "</table>\n",
       "</div>"
      ],
      "text/plain": [
       "      review_rating                                        review_text  \\\n",
       "1473              5  gosh i love this bank today i stopped in to ge...   \n",
       "\n",
       "     class_label                                   review_tokenised  \\\n",
       "1473    Positive  [gosh, i, love, this, bank, today, i, stopped,...   \n",
       "\n",
       "      len_tokens                                  lemmatized_review language  \n",
       "1473          82  gosh i love this bank today i stopped in to ge...       en  "
      ]
     },
     "execution_count": 47,
     "metadata": {},
     "output_type": "execute_result"
    }
   ],
   "source": [
    "df_auto_clean.sample()"
   ]
  },
  {
   "cell_type": "code",
   "execution_count": 48,
   "metadata": {},
   "outputs": [],
   "source": [
    "#import libraries\n",
    "import matplotlib.pyplot as plt\n",
    "from wordcloud import WordCloud, STOPWORDS"
   ]
  },
  {
   "cell_type": "code",
   "execution_count": 49,
   "metadata": {},
   "outputs": [
    {
     "data": {
      "image/png": "[encoded data removed]",
      "text/plain": [
       "<Figure size 432x288 with 1 Axes>"
      ]
     },
     "metadata": {
      "needs_background": "light"
     },
     "output_type": "display_data"
    }
   ],
   "source": [
    "cloud_auto_review = WordCloud().generate(str(df_auto_clean.review_text))\n",
    "\n",
    "plt.imshow(cloud_auto_review, interpolation='bilinear')\n",
    "\n",
    "plt.axis('off')\n",
    "\n",
    "plt.show()"
   ]
  },
  {
   "cell_type": "code",
   "execution_count": 50,
   "metadata": {},
   "outputs": [],
   "source": [
    "#define the stop words list\n",
    "my_stopwords = set(STOPWORDS)\n",
    "\n",
    "#update the set using the words in wordcloud  which doesn't make any sense.\n",
    "my_stopwords.update(['car', 'rude', 'chris', 'typical'])"
   ]
  },
  {
   "cell_type": "code",
   "execution_count": 51,
   "metadata": {},
   "outputs": [
    {
     "data": {
      "image/png": "[encoded data removed]",
      "text/plain": [
       "<Figure size 432x288 with 1 Axes>"
      ]
     },
     "metadata": {
      "needs_background": "light"
     },
     "output_type": "display_data"
    }
   ],
   "source": [
    "#generate and show the wordcloud again.\n",
    "cloud_auto_review  = WordCloud(background_color='white', stopwords=my_stopwords).generate(str(df_auto_clean.review_text))\n",
    "\n",
    "plt.imshow(cloud_auto_review, interpolation='bilinear')\n",
    "\n",
    "plt.axis('off')\n",
    "\n",
    "plt.show()"
   ]
  },
  {
   "cell_type": "code",
   "execution_count": 52,
   "metadata": {},
   "outputs": [],
   "source": [
    "my_stopwords = ENGLISH_STOP_WORDS.union(['place'])"
   ]
  },
  {
   "cell_type": "code",
   "execution_count": 57,
   "metadata": {},
   "outputs": [
    {
     "name": "stdout",
     "output_type": "stream",
     "text": [
      "Logistic Regression \n",
      "\n",
      "Accuracy of training data:  0.9618511569731082\n",
      "Accuracy on Testing data 0.9075\n",
      "Accuracy score on predicted data 0.9075\n",
      "\n",
      "Classification report : \n",
      "               precision    recall  f1-score   support\n",
      "\n",
      "    Negative       0.91      0.85      0.88       157\n",
      "    Positive       0.91      0.95      0.93       243\n",
      "\n",
      "    accuracy                           0.91       400\n",
      "   macro avg       0.91      0.90      0.90       400\n",
      "weighted avg       0.91      0.91      0.91       400\n",
      "\n",
      "\n",
      "Confusion Matrix : \n",
      " [[133  24]\n",
      " [ 13 230]]\n",
      "\n",
      "Confusion Matrix : By percentage\n",
      " [[0.3325 0.06  ]\n",
      " [0.0325 0.575 ]]\n",
      "=============================================================================================================================\n",
      "\n",
      "\n",
      "Naive Bayes \n",
      "\n",
      "Accuracy score on predicted data MultinomialNB 0.8225\n",
      "Accuracy score on predicted data BernoulliNB 0.79\n",
      "Accuracy score on predicted data GaussianNB 0.7425\n",
      "Accuracy of training data:  0.9287054409005628\n",
      "Accuracy on Testing data 0.8225\n",
      "\n",
      "Classification report MultinomialNB: \n",
      "               precision    recall  f1-score   support\n",
      "\n",
      "    Negative       0.98      0.58      0.73       166\n",
      "    Positive       0.77      0.99      0.87       234\n",
      "\n",
      "    accuracy                           0.82       400\n",
      "   macro avg       0.88      0.79      0.80       400\n",
      "weighted avg       0.86      0.82      0.81       400\n",
      "\n",
      "\n",
      "Classification report BernoulliNB: \n",
      "               precision    recall  f1-score   support\n",
      "\n",
      "    Negative       0.87      0.58      0.70       166\n",
      "    Positive       0.76      0.94      0.84       234\n",
      "\n",
      "    accuracy                           0.79       400\n",
      "   macro avg       0.81      0.76      0.77       400\n",
      "weighted avg       0.80      0.79      0.78       400\n",
      "\n",
      "\n",
      "Classification report GaussianNB: \n",
      "               precision    recall  f1-score   support\n",
      "\n",
      "    Negative       0.69      0.69      0.69       166\n",
      "    Positive       0.78      0.78      0.78       234\n",
      "\n",
      "    accuracy                           0.74       400\n",
      "   macro avg       0.73      0.73      0.73       400\n",
      "weighted avg       0.74      0.74      0.74       400\n",
      "\n",
      "\n",
      "Confusion Matrix MultinomialNB: \n",
      " [[ 97  69]\n",
      " [  2 232]]\n",
      "\n",
      "Confusion Matrix BernoulliNB: \n",
      " [[ 97  69]\n",
      " [ 15 219]]\n",
      "\n",
      "Confusion Matrix GaussianNB: \n",
      " [[114  52]\n",
      " [ 51 183]]\n",
      "\n",
      "Confusion Matrix MultinomialNB: By percentage\n",
      " [[0.2425 0.1725]\n",
      " [0.005  0.58  ]]\n",
      "\n",
      "Confusion Matrix BernoulliNB: By percentage\n",
      " [[0.2425 0.1725]\n",
      " [0.0375 0.5475]]\n",
      "\n",
      "Confusion Matrix GaussianNB: By percentage\n",
      " [[0.285  0.13  ]\n",
      " [0.1275 0.4575]]\n",
      "=============================================================================================================================\n",
      "\n",
      "\n",
      "Random Forest \n",
      "\n",
      "Accuracy score on predicted data Random Forest 0.8625\n",
      "Accuracy of training data:  0.9643527204502814\n",
      "Accuracy on Testing data 0.8625\n",
      "\n",
      "Classification report Random Forest: \n",
      "               precision    recall  f1-score   support\n",
      "\n",
      "    Negative       0.93      0.72      0.81       166\n",
      "    Positive       0.83      0.96      0.89       234\n",
      "\n",
      "    accuracy                           0.86       400\n",
      "   macro avg       0.88      0.84      0.85       400\n",
      "weighted avg       0.87      0.86      0.86       400\n",
      "\n",
      "\n",
      "Confusion Matrix Random Forest: \n",
      " [[120  46]\n",
      " [  9 225]]\n",
      "\n",
      "Confusion Matrix Random Forest: By percentage\n",
      " [[0.3    0.115 ]\n",
      " [0.0225 0.5625]]\n"
     ]
    }
   ],
   "source": [
    "#vectorise_reviews()\n",
    "\n",
    "df_auto_clean_en = df_auto_clean[df_auto_clean['language'] == 'en']\n",
    "\n",
    "#Logistic Regression\n",
    "print(\"Logistic Regression \\n\")\n",
    "fit_and_predict_evaluate_lg(df_auto_clean_en)\n",
    "print(\"=============================================================================================================================\")\n",
    "#Naive Bayes\n",
    "print(\"\\n\\nNaive Bayes \\n\")\n",
    "fit_and_predict_evaluate_nb(df_auto_clean_en)\n",
    "print(\"=============================================================================================================================\")\n",
    "#Random Forest\n",
    "print(\"\\n\\nRandom Forest \\n\")\n",
    "fit_and_predict_evaluate_rf(df_auto_clean_en)"
   ]
  },
  {
   "cell_type": "markdown",
   "metadata": {},
   "source": [
    "By following the above techniques, the performance of the ML Classifers could be increased to a certain extent in all the categories."
   ]
  },
  {
   "cell_type": "code",
   "execution_count": null,
   "metadata": {},
   "outputs": [],
   "source": []
  }
 ],
 "metadata": {
  "kernelspec": {
   "display_name": "Python 3",
   "language": "python",
   "name": "python3"
  },
  "language_info": {
   "codemirror_mode": {
    "name": "ipython",
    "version": 3
   },
   "file_extension": ".py",
   "mimetype": "text/x-python",
   "name": "python",
   "nbconvert_exporter": "python",
   "pygments_lexer": "ipython3",
   "version": "3.7.4"
  }
 },
 "nbformat": 4,
 "nbformat_minor": 4
}
