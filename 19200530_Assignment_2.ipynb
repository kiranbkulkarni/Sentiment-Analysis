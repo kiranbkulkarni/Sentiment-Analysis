{
 "cells": [
  {
   "cell_type": "markdown",
   "metadata": {},
   "source": [
    "# COMP47670 Assignment 2: Text Classification"
   ]
  },
  {
   "cell_type": "markdown",
   "metadata": {},
   "source": [
    "Presented By: Kiran Kulkarni(19200530)"
   ]
  },
  {
   "cell_type": "markdown",
   "metadata": {},
   "source": [
    "### Overview:  \n",
    "The objective of this assignment is to scrape consumer reviews from a set of web pages and evaluate the performance of text classification on the data. The reviews have been divided into five categories here:\n",
    "    * http://mlg.ucd.ie/modules/yalp *\n",
    "Each review has a star rating. For this assignment, we will assume that 1-star to 3-star reviews are “negative”, and 4-star to 5-star reviews as “positive”.\n"
   ]
  },
  {
   "cell_type": "markdown",
   "metadata": {},
   "source": [
    "The following tasks were completed as part of the assignment\n",
    "\n",
    "* Task 1: To select three categories from the above mentioned base URL. To scrape all the reviews for each cartegory ans store them as three seperate datasets. To segregate the reviews based on the ratings and to provide a class label.(i.e., Positive or Negative)\n",
    "\n",
    "* Task 2: For the three category datasets: \n",
    "    * a.\tFrom the reviews in this category, apply appropriate preprocessing steps to create a numeric representation of the data, suitable for classification.\n",
    "    * b.\tBuild a classification model using a classifier of your choice, to distinguish between “positive” and “negative” reviews.\n",
    "    * c.\tTest the predictions of the classification model using an appropriate evaluation strategy. Report and discuss the evaluation results in your notebook.\n",
    "\n",
    "* 3.\tEvaluate the performance of each of your three classification models when applied to data from the other two selected categories. That is, for each unique pair of selected categories (A,B), run the experiments:\n",
    "    * a.\tTrain a classification model on the data from “Category A”, and evaluate its performance on the data from “Category B”.\n",
    "    * b.\tTrain a classification model on the data from “Category B”, and evaluate its performance on the data from “Category A”.\n",
    "    \n",
    "    \n",
    "#### GUIDELINES: \n",
    "For the assignment, only these third-party packages were used: NumPy, Pandas, Scikit-learn, NLTK, SciPy, Requests, BeautifulSoup, Matplotlib, Seaborn, Gensim\n"
   ]
  },
  {
   "cell_type": "markdown",
   "metadata": {},
   "source": [
    "### TASK 1: Scraping for reviews"
   ]
  },
  {
   "cell_type": "markdown",
   "metadata": {},
   "source": [
    "Before we begin the task 1, few necessary python packages should be installed on the machine. Some machines does have them installed and some don't."
   ]
  },
  {
   "cell_type": "code",
   "execution_count": 2,
   "metadata": {},
   "outputs": [
    {
     "output_type": "stream",
     "name": "stdout",
     "text": [
      "Requirement already satisfied: beautifulsoup4 in c:\\users\\kiran\\anaconda3\\lib\\site-packages (4.9.3)\n",
      "Requirement already satisfied: soupsieve>1.2; python_version >= \"3.0\" in c:\\users\\kiran\\anaconda3\\lib\\site-packages (from beautifulsoup4) (2.0.1)\n",
      "Requirement already satisfied: lxml in c:\\users\\kiran\\anaconda3\\lib\\site-packages (4.6.1)\n",
      "Collecting langdetect\n",
      "  Downloading langdetect-1.0.8.tar.gz (981 kB)\n",
      "Requirement already satisfied: six in c:\\users\\kiran\\anaconda3\\lib\\site-packages (from langdetect) (1.15.0)\n",
      "Building wheels for collected packages: langdetect\n",
      "  Building wheel for langdetect (setup.py): started\n",
      "  Building wheel for langdetect (setup.py): finished with status 'done'\n",
      "  Created wheel for langdetect: filename=langdetect-1.0.8-py3-none-any.whl size=993197 sha256=a314b18857095b67099fc6ad827e709142c6ff8cbc92aadab7d80ddb1bddfe85\n",
      "  Stored in directory: c:\\users\\kiran\\appdata\\local\\pip\\cache\\wheels\\1e\\80\\23\\0a24928ec3a3906ff5027f38d2fea824e7e97f2ba7c83d91e3\n",
      "Successfully built langdetect\n",
      "Installing collected packages: langdetect\n",
      "Successfully installed langdetect-1.0.8\n",
      "Requirement already satisfied: requests in c:\\users\\kiran\\anaconda3\\lib\\site-packages (2.24.0)\n",
      "Requirement already satisfied: certifi>=2017.4.17 in c:\\users\\kiran\\anaconda3\\lib\\site-packages (from requests) (2020.6.20)\n",
      "Requirement already satisfied: idna<3,>=2.5 in c:\\users\\kiran\\anaconda3\\lib\\site-packages (from requests) (2.10)\n",
      "Requirement already satisfied: chardet<4,>=3.0.2 in c:\\users\\kiran\\anaconda3\\lib\\site-packages (from requests) (3.0.4)\n",
      "Requirement already satisfied: urllib3!=1.25.0,!=1.25.1,<1.26,>=1.21.1 in c:\\users\\kiran\\anaconda3\\lib\\site-packages (from requests) (1.25.11)\n",
      "ERROR: unknown command \"intsall\" - maybe you meant \"install\"\n",
      "\n",
      "Requirement already satisfied: seaborn in c:\\users\\kiran\\anaconda3\\lib\\site-packages (0.11.0)\n",
      "Requirement already satisfied: numpy>=1.15 in c:\\users\\kiran\\anaconda3\\lib\\site-packages (from seaborn) (1.18.5)\n",
      "Requirement already satisfied: matplotlib>=2.2 in c:\\users\\kiran\\anaconda3\\lib\\site-packages (from seaborn) (3.3.2)\n",
      "Requirement already satisfied: pandas>=0.23 in c:\\users\\kiran\\anaconda3\\lib\\site-packages (from seaborn) (1.1.3)\n",
      "Requirement already satisfied: scipy>=1.0 in c:\\users\\kiran\\anaconda3\\lib\\site-packages (from seaborn) (1.5.2)\n",
      "Requirement already satisfied: python-dateutil>=2.1 in c:\\users\\kiran\\anaconda3\\lib\\site-packages (from matplotlib>=2.2->seaborn) (2.8.1)\n",
      "Requirement already satisfied: pyparsing!=2.0.4,!=2.1.2,!=2.1.6,>=2.0.3 in c:\\users\\kiran\\anaconda3\\lib\\site-packages (from matplotlib>=2.2->seaborn) (2.4.7)\n",
      "Requirement already satisfied: cycler>=0.10 in c:\\users\\kiran\\anaconda3\\lib\\site-packages (from matplotlib>=2.2->seaborn) (0.10.0)\n",
      "Requirement already satisfied: certifi>=2020.06.20 in c:\\users\\kiran\\anaconda3\\lib\\site-packages (from matplotlib>=2.2->seaborn) (2020.6.20)\n",
      "Requirement already satisfied: pillow>=6.2.0 in c:\\users\\kiran\\anaconda3\\lib\\site-packages (from matplotlib>=2.2->seaborn) (8.0.1)\n",
      "Requirement already satisfied: kiwisolver>=1.0.1 in c:\\users\\kiran\\anaconda3\\lib\\site-packages (from matplotlib>=2.2->seaborn) (1.3.0)\n",
      "Requirement already satisfied: pytz>=2017.2 in c:\\users\\kiran\\anaconda3\\lib\\site-packages (from pandas>=0.23->seaborn) (2020.1)\n",
      "Requirement already satisfied: six>=1.5 in c:\\users\\kiran\\anaconda3\\lib\\site-packages (from python-dateutil>=2.1->matplotlib>=2.2->seaborn) (1.15.0)\n",
      "Requirement already satisfied: nltk in c:\\users\\kiran\\anaconda3\\lib\\site-packages (3.5)\n",
      "Requirement already satisfied: click in c:\\users\\kiran\\anaconda3\\lib\\site-packages (from nltk) (7.1.2)\n",
      "Requirement already satisfied: regex in c:\\users\\kiran\\anaconda3\\lib\\site-packages (from nltk) (2020.10.15)\n",
      "Requirement already satisfied: joblib in c:\\users\\kiran\\anaconda3\\lib\\site-packages (from nltk) (0.17.0)\n",
      "Requirement already satisfied: tqdm in c:\\users\\kiran\\anaconda3\\lib\\site-packages (from nltk) (4.50.2)\n"
     ]
    }
   ],
   "source": [
    "#Installing the necessary packages\n",
    "\n",
    "!pip install beautifulsoup4\n",
    "!pip install lxml\n",
    "\n",
    "#a third party tool to detect languages.\n",
    "!pip install langdetect\n",
    "\n",
    "!pip install requests\n",
    "!pip intsall gensim\n",
    "!pip install seaborn\n",
    "!pip install nltk"
   ]
  },
  {
   "cell_type": "markdown",
   "metadata": {},
   "source": [
    "Once the necessary packges are installed, we should import them to our project."
   ]
  },
  {
   "cell_type": "code",
   "execution_count": 3,
   "metadata": {},
   "outputs": [],
   "source": [
    "#import nltk - natural language toolkit\n",
    "import nltk\n",
    "\n",
    "#import the beautifulsoup 4 package for scraping the websites for reviews.\n",
    "import bs4 as bs\n",
    "\n",
    "#import the request package for hanfling http requests.\n",
    "import urllib.request\n",
    "\n",
    "#import pandas to hangle the panel data and store the scraped data into dataframes.\n",
    "import pandas as pd\n",
    "\n",
    "#import datetime. Not relevant to this project. \n",
    "from datetime import datetime\n",
    "\n",
    "#import numpy as np. To handle numerical data.\n",
    "import numpy as np\n",
    "\n",
    "#import regular expression\n",
    "import re\n",
    "import string\n",
    "\n",
    "from sklearn.feature_extraction.text import CountVectorizer, ENGLISH_STOP_WORDS\n",
    "\n",
    "from sklearn.linear_model import LogisticRegression\n",
    "\n",
    "#accuracy using accuracy_score\n",
    "from sklearn.metrics import accuracy_score, classification_report, confusion_matrix\n",
    "\n",
    "from sklearn.model_selection import train_test_split\n",
    "\n",
    "from nltk import word_tokenize\n",
    "\n",
    "from sklearn.ensemble import RandomForestClassifier\n",
    "\n",
    "from sklearn.naive_bayes import BernoulliNB, MultinomialNB, GaussianNB\n",
    "\n",
    "from nltk.stem import PorterStemmer, WordNetLemmatizer\n",
    "\n",
    "from nltk import word_tokenize"
   ]
  },
  {
   "cell_type": "markdown",
   "metadata": {},
   "source": [
    "After installing NLTK package, a few sub modules needs to be downloaded. Using the following lines of code, 'punkt', 'stopwords' are downloadedm"
   ]
  },
  {
   "cell_type": "code",
   "execution_count": 34,
   "metadata": {},
   "outputs": [
    {
     "output_type": "stream",
     "name": "stderr",
     "text": [
      "[nltk_data] Downloading package stopwords to\n",
      "[nltk_data]     C:\\Users\\kiran\\AppData\\Roaming\\nltk_data...\n",
      "[nltk_data]   Unzipping corpora\\stopwords.zip.\n",
      "[nltk_data] Downloading package punkt to\n",
      "[nltk_data]     C:\\Users\\kiran\\AppData\\Roaming\\nltk_data...\n",
      "[nltk_data]   Unzipping tokenizers\\punkt.zip.\n"
     ]
    },
    {
     "output_type": "execute_result",
     "data": {
      "text/plain": [
       "True"
      ]
     },
     "metadata": {},
     "execution_count": 34
    }
   ],
   "source": [
    "#download the stopwords subpackage of nltk\n",
    "\n",
    "#please uncomment the following statements to install the packages.\n",
    "nltk.download ('stopwords')\n",
    "\n",
    "#download the punkt subpackage of nltk\n",
    "\n",
    "nltk.download ('punkt')\n",
    "\n",
    "#download all packages in nltk\n",
    "\n",
    "#nltk.download()"
   ]
  },
  {
   "cell_type": "markdown",
   "metadata": {},
   "source": [
    "To begin with, I have chosen Automotive, Cafe, and Fashion as my three choices of category. This choice is arbitrary. Choosing the categories which are more similar in nature(i.e., cafes and restaurants) could add bias to our Machine Learning model. So, keeping this in mind I have taken categories that are not closely related. "
   ]
  },
  {
   "cell_type": "markdown",
   "metadata": {},
   "source": [
    "### Scrape for data"
   ]
  },
  {
   "cell_type": "markdown",
   "metadata": {},
   "source": [
    "In order tp scrape the data from the url, I have written a function to each category which takes a url as input and returns a data frame containing the requested data. This function is more specific the kind of data  we are trying to scrape. It cannot be generalised."
   ]
  },
  {
   "cell_type": "code",
   "execution_count": 4,
   "metadata": {},
   "outputs": [],
   "source": [
    "\n",
    "# A function to scrape data from the base url\n",
    "def scrape_data(url): # url of each category\n",
    "    df_category = pd.DataFrame() #initialise an empty dataframe to hold the data\n",
    "    review_rating = [] # a list to hold the review text for each review\n",
    "    review_text = [] # a list to hold review rating for each review\n",
    "\n",
    "    sauce_category = urllib.request.urlopen(url).read() # passing the category url to create a sauce object\n",
    "    soup_category = bs.BeautifulSoup(sauce_category, 'lxml') # passing the sauce object to create a soup object\n",
    "    for item_url in soup_category.find_all('a'): # for loop to iterate overate each url for each shop.\n",
    "        if item_url.get('href') == \"index.html\": # an if condition to skip the index.html\n",
    "            continue # to skip and continue to next item\n",
    "        sauce_n = urllib.request.urlopen('http://mlg.ucd.ie/modules/yalp/'+item_url.get('href')).read() #passing the item_url to create a item_sauce object\n",
    "        soup_n = bs.BeautifulSoup(sauce_n, 'html.parser') #passing the item_suace object to create a item_soup object\n",
    "        for review_containers in soup_n.find_all(\"div\", {\"class\": \"review\"}): # for lopp to iterate over each review\n",
    "            review_rating.append(review_containers.find_all(\"p\", {\"class\": \"rating\"})[0].find_all('img')[0][\"alt\"]) #extracting review rating and appending it to the review_rating list\n",
    "            review_text.append(review_containers.find_all(\"p\", {\"class\": \"review-text\"})[0].text) # extracting the review_text and appending it to the review_text list\n",
    "        \n",
    "    df_category['review_rating'] = review_rating #assigning the review rating to data frame\n",
    "    df_category['review_text'] = review_text #assigning the review text to data frame \n",
    "    \n",
    "    return df_category # return the data in the form of a dataframe."
   ]
  },
  {
   "cell_type": "code",
   "execution_count": 11,
   "metadata": {},
   "outputs": [],
   "source": [
    "cafe_url = 'http://mlg.ucd.ie/modules/yalp/cafes_list.html' # a variable to hold the cafe url\n",
    "auto_url = 'http://mlg.ucd.ie/modules/yalp/automotive_list.html' # a variable to hold automotive url\n",
    "fash_url = 'http://mlg.ucd.ie/modules/yalp/fashion_list.html' # a variable to hold fashion url\n",
    "\n",
    "df_cafe = scrape_data(cafe_url) # a dataframe to hold the cafe data\n",
    "df_auto = scrape_data(auto_url) # a dataframe to hold the automotive data\n",
    "df_fash = scrape_data(fash_url) # a dataframe to hold the fashion data"
   ]
  },
  {
   "cell_type": "markdown",
   "metadata": {},
   "source": [
    "Storing the data into a csv."
   ]
  },
  {
   "cell_type": "code",
   "execution_count": 12,
   "metadata": {},
   "outputs": [],
   "source": [
    "df_cafe.to_csv('cafe_reviews.csv') # saving data frame into a csv file\n",
    "df_auto.to_csv('automotive_reviews.csv')\n",
    "df_fash.to_csv('fashion_reviews.csv')"
   ]
  },
  {
   "cell_type": "markdown",
   "metadata": {},
   "source": [
    "### Text pre-processing and assigning the traget label"
   ]
  },
  {
   "cell_type": "markdown",
   "metadata": {},
   "source": [
    "Before beginning the text pre-processing, let's first clean the collected data"
   ]
  },
  {
   "cell_type": "code",
   "execution_count": 13,
   "metadata": {},
   "outputs": [],
   "source": [
    "df_cafe['review_rating'] = df_cafe['review_rating'].str.split('-', expand=True)[0].astype(int) # split function applied to extract the rating(numeric part) from rating text \n",
    "df_auto['review_rating'] = df_auto['review_rating'].str.split('-', expand=True)[0].astype(int)\n",
    "df_fash['review_rating'] = df_fash['review_rating'].str.split('-', expand=True)[0].astype(int)"
   ]
  },
  {
   "cell_type": "code",
   "execution_count": 14,
   "metadata": {},
   "outputs": [
    {
     "output_type": "stream",
     "name": "stdout",
     "text": [
      "   review_rating                                        review_text\n0              4  Pros: Lots of items you would not expect from ...\n1              4  Best egg-tarts in town! There's really not muc...\n2              2  I've been to ABC Bakery a few times since I re...\n3              1  FYI, Closed Monday's New ownership for about 1...\n4              4  The inside may not look like much but they mak...\n<class 'numpy.int32'>\n"
     ]
    }
   ],
   "source": [
    "print(df_cafe.head()) # to confirm the changes in previous step have been applied\n",
    "\n",
    "print(type(df_cafe.review_rating[0]))"
   ]
  },
  {
   "cell_type": "markdown",
   "metadata": {},
   "source": [
    "#### To classify the reviews based on the rating. If the rating is below 3-star it's considered as Negative else it's Positive."
   ]
  },
  {
   "cell_type": "code",
   "execution_count": 15,
   "metadata": {},
   "outputs": [],
   "source": [
    "\n",
    "# a funtion to classify the review text based on the rating\n",
    "def classify_review(df):\n",
    "    df['class_label'] = np.where(df['review_rating']>=4, 'Positive', 'Negative') # if the rating is equal to or greater than 4, it's classified as Postive else Negative\n",
    "    return df\n"
   ]
  },
  {
   "cell_type": "code",
   "execution_count": 16,
   "metadata": {},
   "outputs": [
    {
     "output_type": "execute_result",
     "data": {
      "text/plain": [
       "      review_rating                                        review_text  \\\n",
       "0                 5  Looking for the best tactical supplies? Look n...   \n",
       "1                 1  Stood in line like an idiot for 5 minutes to p...   \n",
       "2                 4  Another great store with quality Equipment. Th...   \n",
       "3                 5  The Problem with this store is not that they h...   \n",
       "4                 5  Great place! We went in at almost closing time...   \n",
       "...             ...                                                ...   \n",
       "1995              4  God, I'd never thought I'd see the day when I'...   \n",
       "1996              1  They keep shooting themselves in the foot. Apo...   \n",
       "1997              1  Extremely dark., so dark you can't see the out...   \n",
       "1998              1  This place is dark, loud, and filled with enou...   \n",
       "1999              1  If you ever wanted proof that sex sells just l...   \n",
       "\n",
       "     class_label  \n",
       "0       Positive  \n",
       "1       Negative  \n",
       "2       Positive  \n",
       "3       Positive  \n",
       "4       Positive  \n",
       "...          ...  \n",
       "1995    Positive  \n",
       "1996    Negative  \n",
       "1997    Negative  \n",
       "1998    Negative  \n",
       "1999    Negative  \n",
       "\n",
       "[2000 rows x 3 columns]"
      ],
      "text/html": "<div>\n<style scoped>\n    .dataframe tbody tr th:only-of-type {\n        vertical-align: middle;\n    }\n\n    .dataframe tbody tr th {\n        vertical-align: top;\n    }\n\n    .dataframe thead th {\n        text-align: right;\n    }\n</style>\n<table border=\"1\" class=\"dataframe\">\n  <thead>\n    <tr style=\"text-align: right;\">\n      <th></th>\n      <th>review_rating</th>\n      <th>review_text</th>\n      <th>class_label</th>\n    </tr>\n  </thead>\n  <tbody>\n    <tr>\n      <th>0</th>\n      <td>5</td>\n      <td>Looking for the best tactical supplies? Look n...</td>\n      <td>Positive</td>\n    </tr>\n    <tr>\n      <th>1</th>\n      <td>1</td>\n      <td>Stood in line like an idiot for 5 minutes to p...</td>\n      <td>Negative</td>\n    </tr>\n    <tr>\n      <th>2</th>\n      <td>4</td>\n      <td>Another great store with quality Equipment. Th...</td>\n      <td>Positive</td>\n    </tr>\n    <tr>\n      <th>3</th>\n      <td>5</td>\n      <td>The Problem with this store is not that they h...</td>\n      <td>Positive</td>\n    </tr>\n    <tr>\n      <th>4</th>\n      <td>5</td>\n      <td>Great place! We went in at almost closing time...</td>\n      <td>Positive</td>\n    </tr>\n    <tr>\n      <th>...</th>\n      <td>...</td>\n      <td>...</td>\n      <td>...</td>\n    </tr>\n    <tr>\n      <th>1995</th>\n      <td>4</td>\n      <td>God, I'd never thought I'd see the day when I'...</td>\n      <td>Positive</td>\n    </tr>\n    <tr>\n      <th>1996</th>\n      <td>1</td>\n      <td>They keep shooting themselves in the foot. Apo...</td>\n      <td>Negative</td>\n    </tr>\n    <tr>\n      <th>1997</th>\n      <td>1</td>\n      <td>Extremely dark., so dark you can't see the out...</td>\n      <td>Negative</td>\n    </tr>\n    <tr>\n      <th>1998</th>\n      <td>1</td>\n      <td>This place is dark, loud, and filled with enou...</td>\n      <td>Negative</td>\n    </tr>\n    <tr>\n      <th>1999</th>\n      <td>1</td>\n      <td>If you ever wanted proof that sex sells just l...</td>\n      <td>Negative</td>\n    </tr>\n  </tbody>\n</table>\n<p>2000 rows × 3 columns</p>\n</div>"
     },
     "metadata": {},
     "execution_count": 16
    }
   ],
   "source": [
    "classify_review(df_cafe) #applying classify_review() on each category\n",
    "classify_review(df_auto)\n",
    "classify_review(df_fash)"
   ]
  },
  {
   "cell_type": "code",
   "execution_count": 17,
   "metadata": {},
   "outputs": [
    {
     "output_type": "execute_result",
     "data": {
      "text/plain": [
       "     review_rating                                        review_text  \\\n",
       "881              1  What a HUGE disappointment this restaurant was...   \n",
       "\n",
       "    class_label  \n",
       "881    Negative  "
      ],
      "text/html": "<div>\n<style scoped>\n    .dataframe tbody tr th:only-of-type {\n        vertical-align: middle;\n    }\n\n    .dataframe tbody tr th {\n        vertical-align: top;\n    }\n\n    .dataframe thead th {\n        text-align: right;\n    }\n</style>\n<table border=\"1\" class=\"dataframe\">\n  <thead>\n    <tr style=\"text-align: right;\">\n      <th></th>\n      <th>review_rating</th>\n      <th>review_text</th>\n      <th>class_label</th>\n    </tr>\n  </thead>\n  <tbody>\n    <tr>\n      <th>881</th>\n      <td>1</td>\n      <td>What a HUGE disappointment this restaurant was...</td>\n      <td>Negative</td>\n    </tr>\n  </tbody>\n</table>\n</div>"
     },
     "metadata": {},
     "execution_count": 17
    }
   ],
   "source": [
    "df_cafe.sample() #checking the sample"
   ]
  },
  {
   "cell_type": "markdown",
   "metadata": {},
   "source": [
    "### TASK 2: Ananlysis and Pre-Processing"
   ]
  },
  {
   "cell_type": "markdown",
   "metadata": {},
   "source": [
    "#### Some analysis on the reviews"
   ]
  },
  {
   "cell_type": "code",
   "execution_count": 18,
   "metadata": {},
   "outputs": [],
   "source": [
    "def count_reviews(df):\n",
    "    # Find the number of positive and negative reviews\n",
    "    print('Number of positive and negative reviews: ', df.class_label.value_counts())\n",
    "    # Find the proportion of positive and negative reviews\n",
    "    print('Proportion of positive and negative reviews: ', df.class_label.value_counts() / len(df))"
   ]
  },
  {
   "cell_type": "code",
   "execution_count": 19,
   "metadata": {},
   "outputs": [
    {
     "output_type": "stream",
     "name": "stdout",
     "text": [
      "Number of positive and negative reviews:  Positive    1462\nNegative     538\nName: class_label, dtype: int64\nProportion of positive and negative reviews:  Positive    0.731\nNegative    0.269\nName: class_label, dtype: float64\n"
     ]
    }
   ],
   "source": [
    "# Number of positive and negative reviews in cafe category\n",
    "count_reviews(df_cafe)"
   ]
  },
  {
   "cell_type": "code",
   "execution_count": 20,
   "metadata": {},
   "outputs": [
    {
     "output_type": "stream",
     "name": "stdout",
     "text": [
      "Number of positive and negative reviews:  Positive    1212\nNegative     788\nName: class_label, dtype: int64\nProportion of positive and negative reviews:  Positive    0.606\nNegative    0.394\nName: class_label, dtype: float64\n"
     ]
    }
   ],
   "source": [
    "# Number of positive and negative reviews in automotive category\n",
    "count_reviews(df_auto)"
   ]
  },
  {
   "cell_type": "code",
   "execution_count": 21,
   "metadata": {},
   "outputs": [
    {
     "output_type": "stream",
     "name": "stdout",
     "text": [
      "Number of positive and negative reviews:  Positive    1205\nNegative     795\nName: class_label, dtype: int64\nProportion of positive and negative reviews:  Positive    0.6025\nNegative    0.3975\nName: class_label, dtype: float64\n"
     ]
    }
   ],
   "source": [
    "# Number of positive and negative reviews in fashion category\n",
    "count_reviews(df_fash)"
   ]
  },
  {
   "cell_type": "markdown",
   "metadata": {},
   "source": [
    "##### A function to find the max and min length of reviews"
   ]
  },
  {
   "cell_type": "code",
   "execution_count": 22,
   "metadata": {},
   "outputs": [],
   "source": [
    "def review_length(df):\n",
    "    length_reviews = df.review_text.str.len()\n",
    "    # How long is the longest review\n",
    "    print(\"\\n Review with Maximum lenght: \", max(length_reviews))\n",
    "    # How long is the shortest review\n",
    "    print(\"\\n Review with Minimum lenght: \", min(length_reviews))"
   ]
  },
  {
   "cell_type": "code",
   "execution_count": 23,
   "metadata": {},
   "outputs": [
    {
     "output_type": "stream",
     "name": "stdout",
     "text": [
      "Length of reviews in Cafe Category:\n\n Review with Maximum lenght:  4865\n\n Review with Minimum lenght:  117\n"
     ]
    }
   ],
   "source": [
    "print(\"Length of reviews in Cafe Category:\")\n",
    "review_length(df_cafe)"
   ]
  },
  {
   "cell_type": "code",
   "execution_count": 24,
   "metadata": {},
   "outputs": [
    {
     "output_type": "stream",
     "name": "stdout",
     "text": [
      "Length of reviews in Automobile Category:\n\n Review with Maximum lenght:  4976\n\n Review with Minimum lenght:  118\n"
     ]
    }
   ],
   "source": [
    "print(\"Length of reviews in Automobile Category:\")\n",
    "review_length(df_auto)"
   ]
  },
  {
   "cell_type": "code",
   "execution_count": 25,
   "metadata": {},
   "outputs": [
    {
     "output_type": "stream",
     "name": "stdout",
     "text": [
      "Length of reviews in Fashion Category:\n\n Review with Maximum lenght:  4820\n\n Review with Minimum lenght:  117\n"
     ]
    }
   ],
   "source": [
    "print(\"Length of reviews in Fashion Category:\")\n",
    "review_length(df_fash)"
   ]
  },
  {
   "cell_type": "code",
   "execution_count": 26,
   "metadata": {},
   "outputs": [],
   "source": [
    "# We can integrate all the preprocessing techniques like  removing digits, taokenisation, and lemmatization in one go. and then feed the pre-processed data to the vectoriser.\n",
    "# But here, to make the process more simple, I have created these functions seperately.\n",
    "# function to to do the first level of cleaning the data.  \n",
    "def text_preprocess(review_text):\n",
    "    #Make text lower, remove text in square brackets, remove punctuation and remove words.\n",
    "    review_text = review_text.lower()\n",
    "    review_text = re.sub('\\[.*?\\]', '', review_text)\n",
    "    review_text = re.sub('[%s]' % re.escape(string.punctuation), '', review_text)\n",
    "    review_text = re.sub('\\w*\\d\\w*', '', review_text)\n",
    "    \n",
    "    return review_text\n",
    "#storing the reference to the function in a lambda\n",
    "pre_process = lambda txt: text_preprocess(txt)"
   ]
  },
  {
   "cell_type": "code",
   "execution_count": 27,
   "metadata": {},
   "outputs": [],
   "source": [
    "df_cafe_clean = df_cafe #copying the raw data into a new dataframe\n",
    "df_cafe_clean.review_text = df_cafe_clean.review_text.apply(pre_process)#applying the pre-processing technique\n",
    "\n",
    "df_auto_clean = df_auto #copying the raw data into a new dataframe\n",
    "df_auto_clean.review_text = df_auto_clean.review_text.apply(pre_process)#applying the pre-processing technique\n",
    "\n",
    "df_fash_clean = df_fash #copying the raw data into a new dataframe\n",
    "df_fash_clean.review_text = df_fash_clean.review_text.apply(pre_process)#applying the pre-processing technique"
   ]
  },
  {
   "cell_type": "code",
   "execution_count": 28,
   "metadata": {},
   "outputs": [
    {
     "output_type": "execute_result",
     "data": {
      "text/plain": [
       "    review_rating                                        review_text  \\\n",
       "97              4  coffee is pretty good i order the same thing a...   \n",
       "\n",
       "   class_label  \n",
       "97    Positive  "
      ],
      "text/html": "<div>\n<style scoped>\n    .dataframe tbody tr th:only-of-type {\n        vertical-align: middle;\n    }\n\n    .dataframe tbody tr th {\n        vertical-align: top;\n    }\n\n    .dataframe thead th {\n        text-align: right;\n    }\n</style>\n<table border=\"1\" class=\"dataframe\">\n  <thead>\n    <tr style=\"text-align: right;\">\n      <th></th>\n      <th>review_rating</th>\n      <th>review_text</th>\n      <th>class_label</th>\n    </tr>\n  </thead>\n  <tbody>\n    <tr>\n      <th>97</th>\n      <td>4</td>\n      <td>coffee is pretty good i order the same thing a...</td>\n      <td>Positive</td>\n    </tr>\n  </tbody>\n</table>\n</div>"
     },
     "metadata": {},
     "execution_count": 28
    }
   ],
   "source": [
    "#To check the above lines executed properly and the changes are applied on the dataframe.\n",
    "df_cafe_clean.sample()"
   ]
  },
  {
   "cell_type": "code",
   "execution_count": 32,
   "metadata": {},
   "outputs": [],
   "source": [
    "def word_tokenise(df):\n",
    "    word_tokens = [word_tokenize(review) for review in df.review_text]\n",
    "    return word_tokens"
   ]
  },
  {
   "cell_type": "code",
   "execution_count": 35,
   "metadata": {},
   "outputs": [
    {
     "output_type": "execute_result",
     "data": {
      "text/plain": [
       "      review_rating                                        review_text  \\\n",
       "1320              4  i cant believe i havent visited this phil  seb...   \n",
       "\n",
       "     class_label                                   review_tokenised  \n",
       "1320    Positive  [i, cant, believe, i, havent, visited, this, p...  "
      ],
      "text/html": "<div>\n<style scoped>\n    .dataframe tbody tr th:only-of-type {\n        vertical-align: middle;\n    }\n\n    .dataframe tbody tr th {\n        vertical-align: top;\n    }\n\n    .dataframe thead th {\n        text-align: right;\n    }\n</style>\n<table border=\"1\" class=\"dataframe\">\n  <thead>\n    <tr style=\"text-align: right;\">\n      <th></th>\n      <th>review_rating</th>\n      <th>review_text</th>\n      <th>class_label</th>\n      <th>review_tokenised</th>\n    </tr>\n  </thead>\n  <tbody>\n    <tr>\n      <th>1320</th>\n      <td>4</td>\n      <td>i cant believe i havent visited this phil  seb...</td>\n      <td>Positive</td>\n      <td>[i, cant, believe, i, havent, visited, this, p...</td>\n    </tr>\n  </tbody>\n</table>\n</div>"
     },
     "metadata": {},
     "execution_count": 35
    }
   ],
   "source": [
    "df_cafe_clean['review_tokenised'] = word_tokenise(df_cafe_clean)\n",
    "df_auto_clean['review_tokenised'] = word_tokenise(df_auto_clean)\n",
    "df_fash_clean['review_tokenised'] = word_tokenise(df_fash_clean)\n",
    "\n",
    "#To check the above lines executed properly and the changes are applied on the dataframe.\n",
    "df_cafe_clean.sample()"
   ]
  },
  {
   "cell_type": "code",
   "execution_count": 36,
   "metadata": {},
   "outputs": [],
   "source": [
    "# A function to calculate the lenght of the review tokens.\n",
    "def len_tokens(df):\n",
    "    #tokens form a column\n",
    "    len_tokens = []\n",
    "\n",
    "    #Iteratre over the word_tokens list\n",
    "    for i in range(len(df['review_tokenised'])):\n",
    "        len_tokens.append(len(df.review_tokenised[i]))\n",
    "    return len_tokens"
   ]
  },
  {
   "cell_type": "code",
   "execution_count": 37,
   "metadata": {},
   "outputs": [
    {
     "output_type": "execute_result",
     "data": {
      "text/plain": [
       "     review_rating                                        review_text  \\\n",
       "604              1  i didnt think our experience with camping worl...   \n",
       "\n",
       "    class_label                                   review_tokenised  len_tokens  \n",
       "604    Negative  [i, didnt, think, our, experience, with, campi...         268  "
      ],
      "text/html": "<div>\n<style scoped>\n    .dataframe tbody tr th:only-of-type {\n        vertical-align: middle;\n    }\n\n    .dataframe tbody tr th {\n        vertical-align: top;\n    }\n\n    .dataframe thead th {\n        text-align: right;\n    }\n</style>\n<table border=\"1\" class=\"dataframe\">\n  <thead>\n    <tr style=\"text-align: right;\">\n      <th></th>\n      <th>review_rating</th>\n      <th>review_text</th>\n      <th>class_label</th>\n      <th>review_tokenised</th>\n      <th>len_tokens</th>\n    </tr>\n  </thead>\n  <tbody>\n    <tr>\n      <th>604</th>\n      <td>1</td>\n      <td>i didnt think our experience with camping worl...</td>\n      <td>Negative</td>\n      <td>[i, didnt, think, our, experience, with, campi...</td>\n      <td>268</td>\n    </tr>\n  </tbody>\n</table>\n</div>"
     },
     "metadata": {},
     "execution_count": 37
    }
   ],
   "source": [
    "df_cafe_clean['len_tokens'] = len_tokens(df_cafe_clean)\n",
    "df_auto_clean['len_tokens'] = len_tokens(df_auto_clean)\n",
    "df_fash_clean['len_tokens'] = len_tokens(df_fash_clean)\n",
    "\n",
    "#To check the above lines executed properly and the changes are applied on the dataframe.\n",
    "df_auto_clean.sample()"
   ]
  },
  {
   "cell_type": "code",
   "execution_count": 40,
   "metadata": {},
   "outputs": [
    {
     "output_type": "stream",
     "name": "stderr",
     "text": [
      "[nltk_data] Downloading package wordnet to\n",
      "[nltk_data]     C:\\Users\\kiran\\AppData\\Roaming\\nltk_data...\n",
      "[nltk_data]   Unzipping corpora\\wordnet.zip.\n"
     ]
    }
   ],
   "source": [
    "nltk.download('wordnet')\n",
    "# A function to return the lemmatized text of the review_tokens\n",
    "def lemmatize_text(df):\n",
    "    #Initialising the Word Net Lemmatizer. One of the most commonly used lemmatizers for sentiment analysis.\n",
    "    WNlemmatizer = WordNetLemmatizer()\n",
    "    lemmatized_tokens = [' '.join([WNlemmatizer.lemmatize(word) for word in token]) for token in df.review_tokenised] #lemmatise and send the tokens as sentence.\n",
    "    #return the lemmatised tokens\n",
    "    return lemmatized_tokens"
   ]
  },
  {
   "cell_type": "code",
   "execution_count": 41,
   "metadata": {},
   "outputs": [
    {
     "output_type": "execute_result",
     "data": {
      "text/plain": [
       "      review_rating                                        review_text  \\\n",
       "1845              4  came here around  pm there was a big line up a...   \n",
       "\n",
       "     class_label                                   review_tokenised  \\\n",
       "1845    Positive  [came, here, around, pm, there, was, a, big, l...   \n",
       "\n",
       "      len_tokens                                  lemmatized_review  \n",
       "1845          92  came here around pm there wa a big line up at ...  "
      ],
      "text/html": "<div>\n<style scoped>\n    .dataframe tbody tr th:only-of-type {\n        vertical-align: middle;\n    }\n\n    .dataframe tbody tr th {\n        vertical-align: top;\n    }\n\n    .dataframe thead th {\n        text-align: right;\n    }\n</style>\n<table border=\"1\" class=\"dataframe\">\n  <thead>\n    <tr style=\"text-align: right;\">\n      <th></th>\n      <th>review_rating</th>\n      <th>review_text</th>\n      <th>class_label</th>\n      <th>review_tokenised</th>\n      <th>len_tokens</th>\n      <th>lemmatized_review</th>\n    </tr>\n  </thead>\n  <tbody>\n    <tr>\n      <th>1845</th>\n      <td>4</td>\n      <td>came here around  pm there was a big line up a...</td>\n      <td>Positive</td>\n      <td>[came, here, around, pm, there, was, a, big, l...</td>\n      <td>92</td>\n      <td>came here around pm there wa a big line up at ...</td>\n    </tr>\n  </tbody>\n</table>\n</div>"
     },
     "metadata": {},
     "execution_count": 41
    }
   ],
   "source": [
    "df_cafe_clean['lemmatized_review'] = lemmatize_text(df_cafe_clean)\n",
    "df_auto_clean['lemmatized_review'] = lemmatize_text(df_auto_clean)\n",
    "df_fash_clean['lemmatized_review'] = lemmatize_text(df_fash_clean)\n",
    "\n",
    "#To check the above lines executed properly and the changes are applied on the dataframe.\n",
    "df_cafe_clean.sample()"
   ]
  },
  {
   "cell_type": "markdown",
   "metadata": {},
   "source": [
    "### Vectorising review_texts using CountVectorizer"
   ]
  },
  {
   "cell_type": "code",
   "execution_count": 42,
   "metadata": {},
   "outputs": [
    {
     "output_type": "stream",
     "name": "stdout",
     "text": [
      "   aaa  aaa meat  aaa meat wa  aaa ribeye  aaa ribeye steak  aaand  aaand im  \\\n0    0         0            0           0                 0      0         0   \n1    0         0            0           0                 0      0         0   \n2    0         0            0           0                 0      0         0   \n3    0         0            0           0                 0      0         0   \n4    0         0            0           0                 0      0         0   \n\n   aaand im dead  aau  aau basketball  ...  été accueillis par  été décu  \\\n0              0    0               0  ...                   0         0   \n1              0    0               0  ...                   0         0   \n2              0    0               0  ...                   0         0   \n3              0    0               0  ...                   0         0   \n4              0    0               0  ...                   0         0   \n\n   été décu le  été très  été très bien  été époustouflée  \\\n0            0         0              0                 0   \n1            0         0              0                 0   \n2            0         0              0                 0   \n3            0         0              0                 0   \n4            0         0              0                 0   \n\n   été époustouflée par  üppige  üppige mahlzeit  üppige mahlzeit die  \n0                     0       0                0                    0  \n1                     0       0                0                    0  \n2                     0       0                0                    0  \n3                     0       0                0                    0  \n4                     0       0                0                    0  \n\n[5 rows x 177351 columns]\n"
     ]
    }
   ],
   "source": [
    "#from sklearn.feature_extraction.text import CountVectorizer \n",
    "from sklearn.feature_extraction.text import CountVectorizer, ENGLISH_STOP_WORDS\n",
    "\n",
    "# Build the vectorizer, specify max features \n",
    "# CountVectorizer(ngram_range=(min_n, max_n)), specify the n-grams required\n",
    "vect = CountVectorizer(ngram_range=(1,3),max_features=None, stop_words=ENGLISH_STOP_WORDS)\n",
    "\n",
    "# Fit the vectorizer\n",
    "vect.fit(df_cafe_clean.lemmatized_review)\n",
    "\n",
    "# Transform the review column\n",
    "X_cafe_review = vect.transform(df_cafe_clean.lemmatized_review)\n",
    "\n",
    "# Create the bow(bag-of-words) representation\n",
    "X_df=pd.DataFrame(X_cafe_review.toarray(), columns=vect.get_feature_names())\n",
    "print(X_df.head())"
   ]
  },
  {
   "cell_type": "markdown",
   "metadata": {},
   "source": [
    "### Vectorising using TfIdf()"
   ]
  },
  {
   "cell_type": "code",
   "execution_count": 43,
   "metadata": {},
   "outputs": [
    {
     "output_type": "stream",
     "name": "stdout",
     "text": [
      "Top 5 rows of the DataFrame:     aaa  aaa meat  aaa ribeye  aaand  aaand im  aau  aau basketball   ab  \\\n0  0.0       0.0         0.0    0.0       0.0  0.0             0.0  0.0   \n1  0.0       0.0         0.0    0.0       0.0  0.0             0.0  0.0   \n2  0.0       0.0         0.0    0.0       0.0  0.0             0.0  0.0   \n3  0.0       0.0         0.0    0.0       0.0  0.0             0.0  0.0   \n4  0.0       0.0         0.0    0.0       0.0  0.0             0.0  0.0   \n\n   ab doe  ab eggr  ...  étoile plus  étrangement  étrangement leau  été  \\\n0     0.0      0.0  ...          0.0          0.0               0.0  0.0   \n1     0.0      0.0  ...          0.0          0.0               0.0  0.0   \n2     0.0      0.0  ...          0.0          0.0               0.0  0.0   \n3     0.0      0.0  ...          0.0          0.0               0.0  0.0   \n4     0.0      0.0  ...          0.0          0.0               0.0  0.0   \n\n   été accueillis  été décu  été très  été époustouflée  üppige  \\\n0             0.0       0.0       0.0               0.0     0.0   \n1             0.0       0.0       0.0               0.0     0.0   \n2             0.0       0.0       0.0               0.0     0.0   \n3             0.0       0.0       0.0               0.0     0.0   \n4             0.0       0.0       0.0               0.0     0.0   \n\n   üppige mahlzeit  \n0              0.0  \n1              0.0  \n2              0.0  \n3              0.0  \n4              0.0  \n\n[5 rows x 83566 columns]\n"
     ]
    }
   ],
   "source": [
    "# Import the required vectorizer package and stop words list\n",
    "from sklearn.feature_extraction.text import TfidfVectorizer,ENGLISH_STOP_WORDS\n",
    "\n",
    "# Define the vectorizer and specify the arguments\n",
    "my_pattern = r'\\b[^\\d\\W][^\\d\\W]+\\b'\n",
    "#'(?u)\\\\b\\\\w\\\\w+\\\\b'\n",
    "vect = TfidfVectorizer(ngram_range=(1, 2), max_features=None,stop_words=ENGLISH_STOP_WORDS,token_pattern=my_pattern).fit(df_cafe_clean.lemmatized_review)\n",
    "\n",
    "# Transform the vectorizer\n",
    "X_txt = vect.transform(df_cafe_clean.lemmatized_review)\n",
    "\n",
    "# Transform to a data frame and specify the column names\n",
    "X=pd.DataFrame(X_txt.toarray(), columns=vect.get_feature_names())\n",
    "print('Top 5 rows of the DataFrame: ', X.head())"
   ]
  },
  {
   "cell_type": "markdown",
   "metadata": {},
   "source": [
    "Since TfIdf vectoriser adds the Inverse document frequency along with Term Frequency. I have chosen the TfidfVectorizer()."
   ]
  },
  {
   "cell_type": "code",
   "execution_count": 44,
   "metadata": {},
   "outputs": [],
   "source": [
    "# A function to transform the reviews into vectors\n",
    "def vectorise_reviews(df_category):\n",
    "    vect = TfidfVectorizer(ngram_range=(1, 1), max_features=None,stop_words=ENGLISH_STOP_WORDS, lowercase=True,token_pattern='(?u)\\\\b\\\\w\\\\w+\\\\b', smooth_idf=True).fit(df_category.lemmatized_review)\n",
    "\n",
    "    # Transform the vectorizer\n",
    "    X_txt = vect.transform(df_category.lemmatized_review)\n",
    "\n",
    "    # Transform to a data frame and specify the column names\n",
    "    X=pd.DataFrame(X_txt.toarray(), columns=vect.get_feature_names())\n",
    "      \n",
    "    return X"
   ]
  },
  {
   "cell_type": "markdown",
   "metadata": {},
   "source": [
    "##### a. Fitting the vectorised data with Logistic Regression"
   ]
  },
  {
   "cell_type": "code",
   "execution_count": null,
   "metadata": {},
   "outputs": [],
   "source": []
  },
  {
   "cell_type": "code",
   "execution_count": 45,
   "metadata": {},
   "outputs": [],
   "source": [
    "# A function to fit and predict using a Logistic Regression Classifier\n",
    "def fit_and_predict_evaluate_lg(df_c):\n",
    "    #vetcorising text\n",
    "    vectorised_reviews_X = vectorise_reviews(df_c)\n",
    "    target_y = df_c.class_label\n",
    "    \n",
    "    #Splitting the vectorised data\n",
    "    X_train, X_test, y_train, y_test = train_test_split(vectorised_reviews_X, target_y, random_state=123, test_size=0.2, stratify= target_y)\n",
    "    # Build a logistic regression model and calculate the accuracy\n",
    "    #mnb = MultinomialNB().fit(X_train, y_train)\n",
    "    log_reg = LogisticRegression(solver= 'lbfgs').fit(X_train, y_train)\n",
    "    #rand = RandomForestClassifier().fit(X_train, y_train)\n",
    "    #y_rand_predicted = rand.predict(tfidf.transform(x_test_cleaned))\n",
    "    y_predicted = log_reg.predict(X_test)\n",
    "    \n",
    "    #Evaluating the model\n",
    "    print('Accuracy of training data: ', log_reg.score(X_train, y_train))\n",
    "    print('Accuracy on Testing data', log_reg.score(X_test, y_test))\n",
    "    print('Accuracy score on predicted data', accuracy_score(y_test, y_predicted))\n",
    "    print(\"\\nClassification report : \\n\", classification_report(y_test, y_predicted))\n",
    "    print(\"\\nConfusion Matrix : \\n\", confusion_matrix(y_test, y_predicted))\n",
    "    print(\"\\nConfusion Matrix : By percentage\\n\", confusion_matrix(y_test, y_predicted)/len(y_test))\n",
    "    "
   ]
  },
  {
   "cell_type": "code",
   "execution_count": null,
   "metadata": {},
   "outputs": [],
   "source": []
  },
  {
   "cell_type": "markdown",
   "metadata": {},
   "source": [
    "I have applied each of the specified ML classifiers on each category sperately to compare the performance."
   ]
  },
  {
   "cell_type": "code",
   "execution_count": 46,
   "metadata": {},
   "outputs": [
    {
     "output_type": "stream",
     "name": "stdout",
     "text": [
      "PREDICTING using Logistic Regression for all the 3 categories\n",
      "\n",
      " ======================================================================= \n",
      "\n",
      "For Category Cafe: \n",
      " \n",
      "\n",
      "Accuracy of training data:  0.896875\n",
      "Accuracy on Testing data 0.8375\n",
      "Accuracy score on predicted data 0.8375\n",
      "\n",
      "Classification report : \n",
      "               precision    recall  f1-score   support\n",
      "\n",
      "    Negative       0.96      0.42      0.58       108\n",
      "    Positive       0.82      0.99      0.90       292\n",
      "\n",
      "    accuracy                           0.84       400\n",
      "   macro avg       0.89      0.70      0.74       400\n",
      "weighted avg       0.86      0.84      0.81       400\n",
      "\n",
      "\n",
      "Confusion Matrix : \n",
      " [[ 45  63]\n",
      " [  2 290]]\n",
      "\n",
      "Confusion Matrix : By percentage\n",
      " [[0.1125 0.1575]\n",
      " [0.005  0.725 ]]\n",
      "\n",
      " END OF CAFE CATEGORY \n",
      " \n",
      "\n",
      "\n",
      " ======================================================================= \n",
      "\n",
      "\n",
      "For Category Automobile: \n",
      " \n",
      "\n",
      "Accuracy of training data:  0.9625\n",
      "Accuracy on Testing data 0.9025\n",
      "Accuracy score on predicted data 0.9025\n",
      "\n",
      "Classification report : \n",
      "               precision    recall  f1-score   support\n",
      "\n",
      "    Negative       0.90      0.84      0.87       158\n",
      "    Positive       0.90      0.94      0.92       242\n",
      "\n",
      "    accuracy                           0.90       400\n",
      "   macro avg       0.90      0.89      0.90       400\n",
      "weighted avg       0.90      0.90      0.90       400\n",
      "\n",
      "\n",
      "Confusion Matrix : \n",
      " [[133  25]\n",
      " [ 14 228]]\n",
      "\n",
      "Confusion Matrix : By percentage\n",
      " [[0.3325 0.0625]\n",
      " [0.035  0.57  ]]\n",
      "\n",
      "END OF AUTOMOBILE CATEGORY \n",
      " \n",
      "\n",
      "\n",
      " ======================================================================= \n",
      "\n",
      "For Category Fashion: \n",
      " \n",
      "\n",
      "Accuracy of training data:  0.94875\n",
      "Accuracy on Testing data 0.8425\n",
      "Accuracy score on predicted data 0.8425\n",
      "\n",
      "Classification report : \n",
      "               precision    recall  f1-score   support\n",
      "\n",
      "    Negative       0.95      0.64      0.76       159\n",
      "    Positive       0.80      0.98      0.88       241\n",
      "\n",
      "    accuracy                           0.84       400\n",
      "   macro avg       0.88      0.81      0.82       400\n",
      "weighted avg       0.86      0.84      0.83       400\n",
      "\n",
      "\n",
      "Confusion Matrix : \n",
      " [[101  58]\n",
      " [  5 236]]\n",
      "\n",
      "Confusion Matrix : By percentage\n",
      " [[0.2525 0.145 ]\n",
      " [0.0125 0.59  ]]\n",
      "\n",
      "END OF FASHION CATEGORY \n",
      " \n",
      "\n",
      "\n",
      " ======================================================================= \n",
      "\n"
     ]
    }
   ],
   "source": [
    "print(\"PREDICTING using Logistic Regression for all the 3 categories\")\n",
    "\n",
    "print(\"\\n ======================================================================= \\n\")\n",
    "print(\"For Category Cafe: \\n \\n\")\n",
    "fit_and_predict_evaluate_lg(df_cafe_clean)\n",
    "print(\"\\n END OF CAFE CATEGORY \\n \\n\")\n",
    "\n",
    "print(\"\\n ======================================================================= \\n\")\n",
    "print(\"\\nFor Category Automobile: \\n \\n\")\n",
    "fit_and_predict_evaluate_lg(df_auto_clean)\n",
    "print(\"\\nEND OF AUTOMOBILE CATEGORY \\n \\n\")\n",
    "\n",
    "print(\"\\n ======================================================================= \\n\")\n",
    "print(\"For Category Fashion: \\n \\n\")\n",
    "fit_and_predict_evaluate_lg(df_fash_clean)\n",
    "print(\"\\nEND OF FASHION CATEGORY \\n \\n\")\n",
    "\n",
    "print(\"\\n ======================================================================= \\n\")"
   ]
  },
  {
   "cell_type": "markdown",
   "metadata": {},
   "source": [
    "Overall, Logistic Regression has a good accuracy on all the 3 categories. Automobile category has the highest accuracy(i.e., 0.90) for Logistic Regression and Cafe has the lowest accruacy(i.e, 0.84). Whereas, for Fashion category the accuracy is in between automobile and cafe. "
   ]
  },
  {
   "cell_type": "markdown",
   "metadata": {},
   "source": [
    "##### b. Fitting the vectorised data with 3 flavours of Naive Bayes Classifier"
   ]
  },
  {
   "cell_type": "code",
   "execution_count": 47,
   "metadata": {},
   "outputs": [],
   "source": [
    "# A function to fit and predict using a Naive Bayes Classifier\n",
    "\n",
    "def fit_and_predict_evaluate_nb(df_c):    \n",
    "    vectorised_reviews_X = vectorise_reviews(df_c)\n",
    "    target_y = df_c.class_label\n",
    "    #vectorised_reviews_X\n",
    "    X_train, X_test, y_train, y_test = train_test_split(vectorised_reviews_X, target_y, random_state=123, test_size=0.2)\n",
    "\n",
    "    #X_train\n",
    "    mnb = MultinomialNB().fit(X_train, y_train)\n",
    "    bnb = BernoulliNB().fit(X_train, y_train)\n",
    "    gnb = GaussianNB().fit(X_train, y_train)\n",
    "    \n",
    "    #predict\n",
    "    y_predicted_mnb = mnb.predict(X_test)\n",
    "    y_predicted_bnb = bnb.predict(X_test)\n",
    "    y_predicted_gnb = gnb.predict(X_test)\n",
    "    \n",
    "    #evaluation\n",
    "    print('Accuracy score on predicted data MultinomialNB', accuracy_score(y_test, y_predicted_mnb))\n",
    "    print('Accuracy score on predicted data BernoulliNB', accuracy_score(y_test, y_predicted_bnb))\n",
    "    print('Accuracy score on predicted data GaussianNB', accuracy_score(y_test, y_predicted_gnb))\n",
    "    print('Accuracy of training data: ', mnb.score(X_train, y_train))\n",
    "    print('Accuracy on Testing data', mnb.score(X_test, y_test))\n",
    "    print(\"\\nClassification report MultinomialNB: \\n\", classification_report(y_test, y_predicted_mnb))\n",
    "    print(\"\\nClassification report BernoulliNB: \\n\", classification_report(y_test, y_predicted_bnb))\n",
    "    print(\"\\nClassification report GaussianNB: \\n\", classification_report(y_test, y_predicted_gnb))\n",
    "    print(\"\\nConfusion Matrix MultinomialNB: \\n\", confusion_matrix(y_test, y_predicted_mnb))\n",
    "    print(\"\\nConfusion Matrix BernoulliNB: \\n\", confusion_matrix(y_test, y_predicted_bnb))\n",
    "    print(\"\\nConfusion Matrix GaussianNB: \\n\", confusion_matrix(y_test, y_predicted_gnb))\n",
    "    print(\"\\nConfusion Matrix MultinomialNB: By percentage\\n\", confusion_matrix(y_test, y_predicted_mnb)/len(y_test))\n",
    "    print(\"\\nConfusion Matrix BernoulliNB: By percentage\\n\", confusion_matrix(y_test, y_predicted_bnb)/len(y_test))\n",
    "    print(\"\\nConfusion Matrix GaussianNB: By percentage\\n\", confusion_matrix(y_test, y_predicted_gnb)/len(y_test))\n"
   ]
  },
  {
   "cell_type": "code",
   "execution_count": 48,
   "metadata": {},
   "outputs": [
    {
     "output_type": "stream",
     "name": "stdout",
     "text": [
      "PREDICTING using Naive Bayes for all the 3 categories\n",
      "\n",
      " ======================================================================= \n",
      "\n",
      "\n",
      " For Category Cafe: \n",
      " \n",
      "\n",
      "Accuracy score on predicted data MultinomialNB 0.7625\n",
      "Accuracy score on predicted data BernoulliNB 0.795\n",
      "Accuracy score on predicted data GaussianNB 0.6125\n",
      "Accuracy of training data:  0.76625\n",
      "Accuracy on Testing data 0.7625\n",
      "\n",
      "Classification report MultinomialNB: \n",
      "               precision    recall  f1-score   support\n",
      "\n",
      "    Negative       1.00      0.05      0.10       100\n",
      "    Positive       0.76      1.00      0.86       300\n",
      "\n",
      "    accuracy                           0.76       400\n",
      "   macro avg       0.88      0.53      0.48       400\n",
      "weighted avg       0.82      0.76      0.67       400\n",
      "\n",
      "\n",
      "Classification report BernoulliNB: \n",
      "               precision    recall  f1-score   support\n",
      "\n",
      "    Negative       0.66      0.38      0.48       100\n",
      "    Positive       0.82      0.93      0.87       300\n",
      "\n",
      "    accuracy                           0.80       400\n",
      "   macro avg       0.74      0.66      0.68       400\n",
      "weighted avg       0.78      0.80      0.77       400\n",
      "\n",
      "\n",
      "Classification report GaussianNB: \n",
      "               precision    recall  f1-score   support\n",
      "\n",
      "    Negative       0.31      0.44      0.36       100\n",
      "    Positive       0.78      0.67      0.72       300\n",
      "\n",
      "    accuracy                           0.61       400\n",
      "   macro avg       0.54      0.56      0.54       400\n",
      "weighted avg       0.66      0.61      0.63       400\n",
      "\n",
      "\n",
      "Confusion Matrix MultinomialNB: \n",
      " [[  5  95]\n",
      " [  0 300]]\n",
      "\n",
      "Confusion Matrix BernoulliNB: \n",
      " [[ 38  62]\n",
      " [ 20 280]]\n",
      "\n",
      "Confusion Matrix GaussianNB: \n",
      " [[ 44  56]\n",
      " [ 99 201]]\n",
      "\n",
      "Confusion Matrix MultinomialNB: By percentage\n",
      " [[0.0125 0.2375]\n",
      " [0.     0.75  ]]\n",
      "\n",
      "Confusion Matrix BernoulliNB: By percentage\n",
      " [[0.095 0.155]\n",
      " [0.05  0.7  ]]\n",
      "\n",
      "Confusion Matrix GaussianNB: By percentage\n",
      " [[0.11   0.14  ]\n",
      " [0.2475 0.5025]]\n",
      "\n",
      " END OF CAFE CATEGORY \n",
      " \n",
      "\n",
      "\n",
      " ======================================================================= \n",
      "\n",
      "\n",
      " For Category Automobile: \n",
      " \n",
      "\n",
      "Accuracy score on predicted data MultinomialNB 0.835\n",
      "Accuracy score on predicted data BernoulliNB 0.795\n",
      "Accuracy score on predicted data GaussianNB 0.7725\n",
      "Accuracy of training data:  0.934375\n",
      "Accuracy on Testing data 0.835\n",
      "\n",
      "Classification report MultinomialNB: \n",
      "               precision    recall  f1-score   support\n",
      "\n",
      "    Negative       0.98      0.60      0.74       160\n",
      "    Positive       0.79      0.99      0.88       240\n",
      "\n",
      "    accuracy                           0.83       400\n",
      "   macro avg       0.88      0.80      0.81       400\n",
      "weighted avg       0.86      0.83      0.82       400\n",
      "\n",
      "\n",
      "Classification report BernoulliNB: \n",
      "               precision    recall  f1-score   support\n",
      "\n",
      "    Negative       0.85      0.59      0.70       160\n",
      "    Positive       0.77      0.93      0.84       240\n",
      "\n",
      "    accuracy                           0.80       400\n",
      "   macro avg       0.81      0.76      0.77       400\n",
      "weighted avg       0.80      0.80      0.79       400\n",
      "\n",
      "\n",
      "Classification report GaussianNB: \n",
      "               precision    recall  f1-score   support\n",
      "\n",
      "    Negative       0.72      0.70      0.71       160\n",
      "    Positive       0.80      0.82      0.81       240\n",
      "\n",
      "    accuracy                           0.77       400\n",
      "   macro avg       0.76      0.76      0.76       400\n",
      "weighted avg       0.77      0.77      0.77       400\n",
      "\n",
      "\n",
      "Confusion Matrix MultinomialNB: \n",
      " [[ 96  64]\n",
      " [  2 238]]\n",
      "\n",
      "Confusion Matrix BernoulliNB: \n",
      " [[ 95  65]\n",
      " [ 17 223]]\n",
      "\n",
      "Confusion Matrix GaussianNB: \n",
      " [[112  48]\n",
      " [ 43 197]]\n",
      "\n",
      "Confusion Matrix MultinomialNB: By percentage\n",
      " [[0.24  0.16 ]\n",
      " [0.005 0.595]]\n",
      "\n",
      "Confusion Matrix BernoulliNB: By percentage\n",
      " [[0.2375 0.1625]\n",
      " [0.0425 0.5575]]\n",
      "\n",
      "Confusion Matrix GaussianNB: By percentage\n",
      " [[0.28   0.12  ]\n",
      " [0.1075 0.4925]]\n",
      "\n",
      " END OF AUTOMOBILE CATEGORY \n",
      " \n",
      "\n",
      "\n",
      " ======================================================================= \n",
      "\n",
      "\n",
      " For Category Fashion: \n",
      " \n",
      "\n",
      "Accuracy score on predicted data MultinomialNB 0.78\n",
      "Accuracy score on predicted data BernoulliNB 0.7825\n",
      "Accuracy score on predicted data GaussianNB 0.695\n",
      "Accuracy of training data:  0.89125\n",
      "Accuracy on Testing data 0.78\n",
      "\n",
      "Classification report MultinomialNB: \n",
      "               precision    recall  f1-score   support\n",
      "\n",
      "    Negative       0.97      0.44      0.61       154\n",
      "    Positive       0.74      0.99      0.85       246\n",
      "\n",
      "    accuracy                           0.78       400\n",
      "   macro avg       0.86      0.72      0.73       400\n",
      "weighted avg       0.83      0.78      0.75       400\n",
      "\n",
      "\n",
      "Classification report BernoulliNB: \n",
      "               precision    recall  f1-score   support\n",
      "\n",
      "    Negative       0.85      0.53      0.65       154\n",
      "    Positive       0.76      0.94      0.84       246\n",
      "\n",
      "    accuracy                           0.78       400\n",
      "   macro avg       0.81      0.73      0.75       400\n",
      "weighted avg       0.80      0.78      0.77       400\n",
      "\n",
      "\n",
      "Classification report GaussianNB: \n",
      "               precision    recall  f1-score   support\n",
      "\n",
      "    Negative       0.59      0.71      0.64       154\n",
      "    Positive       0.79      0.68      0.73       246\n",
      "\n",
      "    accuracy                           0.69       400\n",
      "   macro avg       0.69      0.70      0.69       400\n",
      "weighted avg       0.71      0.69      0.70       400\n",
      "\n",
      "\n",
      "Confusion Matrix MultinomialNB: \n",
      " [[ 68  86]\n",
      " [  2 244]]\n",
      "\n",
      "Confusion Matrix BernoulliNB: \n",
      " [[ 81  73]\n",
      " [ 14 232]]\n",
      "\n",
      "Confusion Matrix GaussianNB: \n",
      " [[110  44]\n",
      " [ 78 168]]\n",
      "\n",
      "Confusion Matrix MultinomialNB: By percentage\n",
      " [[0.17  0.215]\n",
      " [0.005 0.61 ]]\n",
      "\n",
      "Confusion Matrix BernoulliNB: By percentage\n",
      " [[0.2025 0.1825]\n",
      " [0.035  0.58  ]]\n",
      "\n",
      "Confusion Matrix GaussianNB: By percentage\n",
      " [[0.275 0.11 ]\n",
      " [0.195 0.42 ]]\n",
      "\n",
      " END OF FASHION CATEGORY \n",
      " \n",
      "\n",
      "\n",
      " ======================================================================= \n",
      "\n"
     ]
    }
   ],
   "source": [
    "print(\"PREDICTING using Naive Bayes for all the 3 categories\")\n",
    "\n",
    "print(\"\\n ======================================================================= \\n\")\n",
    "print(\"\\n For Category Cafe: \\n \\n\")\n",
    "fit_and_predict_evaluate_nb(df_cafe_clean)\n",
    "print(\"\\n END OF CAFE CATEGORY \\n \\n\")\n",
    "\n",
    "print(\"\\n ======================================================================= \\n\")\n",
    "print(\"\\n For Category Automobile: \\n \\n\")\n",
    "fit_and_predict_evaluate_nb(df_auto_clean)\n",
    "print(\"\\n END OF AUTOMOBILE CATEGORY \\n \\n\")\n",
    "\n",
    "print(\"\\n ======================================================================= \\n\")\n",
    "print(\"\\n For Category Fashion: \\n \\n\")\n",
    "fit_and_predict_evaluate_nb(df_fash_clean)\n",
    "print(\"\\n END OF FASHION CATEGORY \\n \\n\")\n",
    "\n",
    "print(\"\\n ======================================================================= \\n\")"
   ]
  },
  {
   "cell_type": "markdown",
   "metadata": {},
   "source": [
    "##### c. Fitting the vectorised data with Random Forest"
   ]
  },
  {
   "cell_type": "code",
   "execution_count": 49,
   "metadata": {},
   "outputs": [],
   "source": [
    "# A function to fit and predict using a Random Forest Classifier\n",
    "def fit_and_predict_evaluate_rf(df_c):    \n",
    "    vectorised_reviews_X = vectorise_reviews(df_c)\n",
    "    target_y = df_c.class_label\n",
    "    #vectorised_reviews_X\n",
    "    X_train, X_test, y_train, y_test = train_test_split(vectorised_reviews_X, target_y, random_state=123, test_size=0.2)\n",
    "    \n",
    "    #X_train\n",
    "    #best parameters: bootstrap=True, max_depth=80, max_features = 2, min_samples_leaf=3, min_samples_split=8, n_estimators=100\n",
    "    rand = RandomForestClassifier(max_depth=80, min_samples_leaf=3, min_samples_split=8, n_estimators=200).fit(X_train, y_train)\n",
    "    y_predicted_rf = rand.predict(X_test)\n",
    "    print('Accuracy score on predicted data Random Forest', accuracy_score(y_test, y_predicted_rf))\n",
    "    print('Accuracy of training data: ', rand.score(X_train, y_train))\n",
    "    print('Accuracy on Testing data', rand.score(X_test, y_test))\n",
    "    print(\"\\nClassification report Random Forest: \\n\", classification_report(y_test, y_predicted_rf))\n",
    "    print(\"\\nConfusion Matrix Random Forest: \\n\", confusion_matrix(y_test, y_predicted_rf))\n",
    "    print(\"\\nConfusion Matrix Random Forest: By percentage\\n\", confusion_matrix(y_test, y_predicted_rf)/len(y_test))\n"
   ]
  },
  {
   "cell_type": "code",
   "execution_count": 50,
   "metadata": {},
   "outputs": [
    {
     "output_type": "stream",
     "name": "stdout",
     "text": [
      "PREDICTING using Random Forest Classifier for all the 3 categories\n",
      "\n",
      " ======================================================================= \n",
      "\n",
      "\n",
      " For Category Cafe: \n",
      " \n",
      "\n",
      "Accuracy score on predicted data Random Forest 0.8175\n",
      "Accuracy of training data:  0.908125\n",
      "Accuracy on Testing data 0.8175\n",
      "\n",
      "Classification report Random Forest: \n",
      "               precision    recall  f1-score   support\n",
      "\n",
      "    Negative       0.97      0.28      0.43       100\n",
      "    Positive       0.81      1.00      0.89       300\n",
      "\n",
      "    accuracy                           0.82       400\n",
      "   macro avg       0.89      0.64      0.66       400\n",
      "weighted avg       0.85      0.82      0.78       400\n",
      "\n",
      "\n",
      "Confusion Matrix Random Forest: \n",
      " [[ 28  72]\n",
      " [  1 299]]\n",
      "\n",
      "Confusion Matrix Random Forest: By percentage\n",
      " [[0.07   0.18  ]\n",
      " [0.0025 0.7475]]\n",
      "\n",
      " END OF CAFE CATEGORY \n",
      " \n",
      "\n",
      "\n",
      " ======================================================================= \n",
      "\n",
      "\n",
      " For Category Automobile: \n",
      " \n",
      "\n",
      "Accuracy score on predicted data Random Forest 0.87\n",
      "Accuracy of training data:  0.96\n",
      "Accuracy on Testing data 0.87\n",
      "\n",
      "Classification report Random Forest: \n",
      "               precision    recall  f1-score   support\n",
      "\n",
      "    Negative       0.91      0.75      0.82       160\n",
      "    Positive       0.85      0.95      0.90       240\n",
      "\n",
      "    accuracy                           0.87       400\n",
      "   macro avg       0.88      0.85      0.86       400\n",
      "weighted avg       0.87      0.87      0.87       400\n",
      "\n",
      "\n",
      "Confusion Matrix Random Forest: \n",
      " [[120  40]\n",
      " [ 12 228]]\n",
      "\n",
      "Confusion Matrix Random Forest: By percentage\n",
      " [[0.3  0.1 ]\n",
      " [0.03 0.57]]\n",
      "\n",
      " END OF AUTOMOBILE CATEGORY \n",
      " \n",
      "\n",
      "\n",
      " ======================================================================= \n",
      "\n",
      "\n",
      " For Category Fashion: \n",
      " \n",
      "\n",
      "Accuracy score on predicted data Random Forest 0.8375\n",
      "Accuracy of training data:  0.95375\n",
      "Accuracy on Testing data 0.8375\n",
      "\n",
      "Classification report Random Forest: \n",
      "               precision    recall  f1-score   support\n",
      "\n",
      "    Negative       0.93      0.62      0.75       154\n",
      "    Positive       0.80      0.97      0.88       246\n",
      "\n",
      "    accuracy                           0.84       400\n",
      "   macro avg       0.87      0.80      0.81       400\n",
      "weighted avg       0.85      0.84      0.83       400\n",
      "\n",
      "\n",
      "Confusion Matrix Random Forest: \n",
      " [[ 96  58]\n",
      " [  7 239]]\n",
      "\n",
      "Confusion Matrix Random Forest: By percentage\n",
      " [[0.24   0.145 ]\n",
      " [0.0175 0.5975]]\n",
      "\n",
      " END OF FASHION CATEGORY \n",
      " \n",
      "\n",
      "\n",
      " ======================================================================= \n",
      "\n"
     ]
    }
   ],
   "source": [
    "print(\"PREDICTING using Random Forest Classifier for all the 3 categories\")\n",
    "\n",
    "print(\"\\n ======================================================================= \\n\")\n",
    "print(\"\\n For Category Cafe: \\n \\n\")\n",
    "fit_and_predict_evaluate_rf(df_cafe_clean)\n",
    "print(\"\\n END OF CAFE CATEGORY \\n \\n\")\n",
    "\n",
    "print(\"\\n ======================================================================= \\n\")\n",
    "print(\"\\n For Category Automobile: \\n \\n\")\n",
    "fit_and_predict_evaluate_rf(df_auto_clean)\n",
    "print(\"\\n END OF AUTOMOBILE CATEGORY \\n \\n\")\n",
    "\n",
    "print(\"\\n ======================================================================= \\n\")\n",
    "print(\"\\n For Category Fashion: \\n \\n\")\n",
    "fit_and_predict_evaluate_rf(df_fash_clean)\n",
    "print(\"\\n END OF FASHION CATEGORY \\n \\n\")\n",
    "\n",
    "print(\"\\n ======================================================================= \\n\")"
   ]
  },
  {
   "cell_type": "markdown",
   "metadata": {},
   "source": [
    "### TASK 3: Evaluation"
   ]
  },
  {
   "cell_type": "code",
   "execution_count": 51,
   "metadata": {},
   "outputs": [],
   "source": [
    "\n",
    "# a function to pass the three categories A, B, and C. This function takes the vetors of category A and fits the Category B and C. \n",
    "# And the Machine Learning model fits the Category A as Train data and predicts on the features of Category B and C( Test Data )\n",
    "def predict_on_test(cat_a, cat_b, cat_c):\n",
    "    #vect = TfidfVectorizer(ngram_range=(1, 3), max_features=None,stop_words=ENGLISH_STOP_WORDS).fit(cat_a.lemmatized_review)\n",
    "    vect = TfidfVectorizer(ngram_range=(1, 3), max_features=None,stop_words=ENGLISH_STOP_WORDS, lowercase=True,token_pattern='(?u)\\\\b\\\\w\\\\w+\\\\b', smooth_idf=True).fit(cat_a.lemmatized_review)\n",
    "    # Transform the vectorizer\n",
    "    X_cat_a_txt = vect.transform(cat_a.lemmatized_review)\n",
    "    X_cat_b_txt = vect.transform(cat_b.lemmatized_review)\n",
    "    X_cat_c_txt = vect.transform(cat_c.lemmatized_review)\n",
    "\n",
    "    # Transform to a data frame and specify the column names\n",
    "    X_cat_a_features = pd.DataFrame(X_cat_a_txt.toarray(), columns=vect.get_feature_names())\n",
    "    X_cat_b_features = pd.DataFrame(X_cat_b_txt.toarray(), columns=vect.get_feature_names())\n",
    "    X_cat_c_features = pd.DataFrame(X_cat_c_txt.toarray(), columns=vect.get_feature_names())\n",
    "    \n",
    "    #X_train\n",
    "    X_cat_a_train = X_cat_a_features\n",
    "    \n",
    "    #y_train\n",
    "    y_cat_a_train = cat_a['class_label']\n",
    "\n",
    "\n",
    "    # Build a logistic regression model and calculate the accuracy\n",
    "    log_reg = LogisticRegression(solver='lbfgs').fit(X_cat_a_train, y_cat_a_train)\n",
    "    \n",
    "    #X_test for Category B\n",
    "    X_test_cat_b_features = X_cat_b_features\n",
    "    #y_test for category B\n",
    "    y_test_cat_b = cat_b['class_label']\n",
    "\n",
    "    #X_test for Category C\n",
    "    X_test_cat_c_features = X_cat_c_features\n",
    "    #y_test for category C\n",
    "    y_test_cat_c = cat_c['class_label']\n",
    "\n",
    "    #predicting on Category B using LogisticRegression Classifier\n",
    "    y_predict_cat_b = log_reg.predict(X_test_cat_b_features)\n",
    "    #predicting on Category C using LogisticRegression Classifier\n",
    "    y_predict_cat_c = log_reg.predict(X_test_cat_c_features)\n",
    "\n",
    "    #accuracy score for\n",
    "    accuracy_cat_b = accuracy_score(y_test_cat_b, y_predict_cat_b)\n",
    "    accuracy_cat_c = accuracy_score(y_test_cat_c, y_predict_cat_c)\n",
    "\n",
    "    #Evaluating the model\n",
    "    #print('\\n Accuracy of training data: \\n', log_reg.score(X_cat_a_train, y_cat_a_train))\n",
    "    print(\"\\n ======================================================================= \\n\")\n",
    "    print(\"\\n For Category B: \\n \\n\")\n",
    "    print('\\n Accuracy score on predicted data for Category B: \\n', accuracy_score(y_test_cat_b, y_predict_cat_b))\n",
    "    print(\"\\nClassification report for Category B: \\n\", classification_report(y_test_cat_b, y_predict_cat_b))\n",
    "    print(\"\\nConfusion Matrix for Category B: \\n\", confusion_matrix(y_test_cat_b, y_predict_cat_b))\n",
    "    print(\"\\nConfusion Matrix for Category B: By percentage\\n\", confusion_matrix(y_test_cat_b, y_predict_cat_b)/len(y_test_cat_b))\n",
    "    print(\"\\n END OF CATEGORY B\\n \\n\")\n",
    "    print(\"\\n ======================================================================= \\n\")\n",
    "    print(\"\\n For Category C: \\n \\n\")\n",
    "    print('\\n Accuracy score on predicted data for Category C: \\n', accuracy_score(y_test_cat_c, y_predict_cat_c))\n",
    "    print(\"\\nClassification report for Category C: \\n\", classification_report(y_test_cat_c, y_predict_cat_c))\n",
    "    print(\"\\nConfusion Matrix for Category C: \\n\", confusion_matrix(y_test_cat_c, y_predict_cat_c))\n",
    "    print(\"\\nConfusion Matrix for Category C: By percentage\\n\", confusion_matrix(y_test_cat_c, y_predict_cat_c)/len(y_test_cat_c))\n",
    "    print(\"\\n END OF CATEGORY C\\n \\n\")\n",
    "    print(\"\\n ======================================================================= \\n\")\n"
   ]
  },
  {
   "cell_type": "markdown",
   "metadata": {},
   "source": [
    "#### Evaluating using CATEGORY A : CAFE on CATEGORY B: AUTOMOBILE and CATEGORY C: FASHION"
   ]
  },
  {
   "cell_type": "code",
   "execution_count": 52,
   "metadata": {},
   "outputs": [
    {
     "output_type": "stream",
     "name": "stdout",
     "text": [
      "\n",
      " ======================================================================= \n",
      "\n",
      "\n",
      " For Category B: \n",
      " \n",
      "\n",
      "\n",
      " Accuracy score on predicted data for Category B: \n",
      " 0.7405\n",
      "\n",
      "Classification report for Category B: \n",
      "               precision    recall  f1-score   support\n",
      "\n",
      "    Negative       0.83      0.43      0.57       788\n",
      "    Positive       0.72      0.94      0.81      1212\n",
      "\n",
      "    accuracy                           0.74      2000\n",
      "   macro avg       0.77      0.69      0.69      2000\n",
      "weighted avg       0.76      0.74      0.72      2000\n",
      "\n",
      "\n",
      "Confusion Matrix for Category B: \n",
      " [[ 341  447]\n",
      " [  72 1140]]\n",
      "\n",
      "Confusion Matrix for Category B: By percentage\n",
      " [[0.1705 0.2235]\n",
      " [0.036  0.57  ]]\n",
      "\n",
      " END OF CATEGORY B\n",
      " \n",
      "\n",
      "\n",
      " ======================================================================= \n",
      "\n",
      "\n",
      " For Category C: \n",
      " \n",
      "\n",
      "\n",
      " Accuracy score on predicted data for Category C: \n",
      " 0.739\n",
      "\n",
      "Classification report for Category C: \n",
      "               precision    recall  f1-score   support\n",
      "\n",
      "    Negative       0.95      0.36      0.52       795\n",
      "    Positive       0.70      0.99      0.82      1205\n",
      "\n",
      "    accuracy                           0.74      2000\n",
      "   macro avg       0.83      0.67      0.67      2000\n",
      "weighted avg       0.80      0.74      0.70      2000\n",
      "\n",
      "\n",
      "Confusion Matrix for Category C: \n",
      " [[ 287  508]\n",
      " [  14 1191]]\n",
      "\n",
      "Confusion Matrix for Category C: By percentage\n",
      " [[0.1435 0.254 ]\n",
      " [0.007  0.5955]]\n",
      "\n",
      " END OF CATEGORY C\n",
      " \n",
      "\n",
      "\n",
      " ======================================================================= \n",
      "\n"
     ]
    }
   ],
   "source": [
    "predict_on_test(df_cafe_clean, df_auto_clean, df_fash_clean)"
   ]
  },
  {
   "cell_type": "markdown",
   "metadata": {},
   "source": [
    "#### Evaluating using CATEGORY A : AUTOMOBILE on CATEGORY B: FASHION and CATEGORY C: CAFE"
   ]
  },
  {
   "cell_type": "code",
   "execution_count": 53,
   "metadata": {},
   "outputs": [
    {
     "output_type": "stream",
     "name": "stdout",
     "text": [
      "\n",
      " ======================================================================= \n",
      "\n",
      "\n",
      " For Category B: \n",
      " \n",
      "\n",
      "\n",
      " Accuracy score on predicted data for Category B: \n",
      " 0.822\n",
      "\n",
      "Classification report for Category B: \n",
      "               precision    recall  f1-score   support\n",
      "\n",
      "    Negative       0.89      0.63      0.74       795\n",
      "    Positive       0.79      0.95      0.87      1205\n",
      "\n",
      "    accuracy                           0.82      2000\n",
      "   macro avg       0.84      0.79      0.80      2000\n",
      "weighted avg       0.83      0.82      0.81      2000\n",
      "\n",
      "\n",
      "Confusion Matrix for Category B: \n",
      " [[ 498  297]\n",
      " [  59 1146]]\n",
      "\n",
      "Confusion Matrix for Category B: By percentage\n",
      " [[0.249  0.1485]\n",
      " [0.0295 0.573 ]]\n",
      "\n",
      " END OF CATEGORY B\n",
      " \n",
      "\n",
      "\n",
      " ======================================================================= \n",
      "\n",
      "\n",
      " For Category C: \n",
      " \n",
      "\n",
      "\n",
      " Accuracy score on predicted data for Category C: \n",
      " 0.8065\n",
      "\n",
      "Classification report for Category C: \n",
      "               precision    recall  f1-score   support\n",
      "\n",
      "    Negative       0.86      0.33      0.48       538\n",
      "    Positive       0.80      0.98      0.88      1462\n",
      "\n",
      "    accuracy                           0.81      2000\n",
      "   macro avg       0.83      0.66      0.68      2000\n",
      "weighted avg       0.82      0.81      0.77      2000\n",
      "\n",
      "\n",
      "Confusion Matrix for Category C: \n",
      " [[ 180  358]\n",
      " [  29 1433]]\n",
      "\n",
      "Confusion Matrix for Category C: By percentage\n",
      " [[0.09   0.179 ]\n",
      " [0.0145 0.7165]]\n",
      "\n",
      " END OF CATEGORY C\n",
      " \n",
      "\n",
      "\n",
      " ======================================================================= \n",
      "\n"
     ]
    }
   ],
   "source": [
    "predict_on_test(df_auto_clean, df_fash_clean, df_cafe_clean)"
   ]
  },
  {
   "cell_type": "markdown",
   "metadata": {},
   "source": [
    "#### Evaluating using CATEGORY A : FASHION on CATEGORY B: CAFE and CATEGORY C: AUTOMOBILE"
   ]
  },
  {
   "cell_type": "code",
   "execution_count": 54,
   "metadata": {},
   "outputs": [
    {
     "output_type": "stream",
     "name": "stdout",
     "text": [
      "\n",
      " ======================================================================= \n",
      "\n",
      "\n",
      " For Category B: \n",
      " \n",
      "\n",
      "\n",
      " Accuracy score on predicted data for Category B: \n",
      " 0.8385\n",
      "\n",
      "Classification report for Category B: \n",
      "               precision    recall  f1-score   support\n",
      "\n",
      "    Negative       0.90      0.45      0.60       538\n",
      "    Positive       0.83      0.98      0.90      1462\n",
      "\n",
      "    accuracy                           0.84      2000\n",
      "   macro avg       0.86      0.72      0.75      2000\n",
      "weighted avg       0.85      0.84      0.82      2000\n",
      "\n",
      "\n",
      "Confusion Matrix for Category B: \n",
      " [[ 242  296]\n",
      " [  27 1435]]\n",
      "\n",
      "Confusion Matrix for Category B: By percentage\n",
      " [[0.121  0.148 ]\n",
      " [0.0135 0.7175]]\n",
      "\n",
      " END OF CATEGORY B\n",
      " \n",
      "\n",
      "\n",
      " ======================================================================= \n",
      "\n",
      "\n",
      " For Category C: \n",
      " \n",
      "\n",
      "\n",
      " Accuracy score on predicted data for Category C: \n",
      " 0.8525\n",
      "\n",
      "Classification report for Category C: \n",
      "               precision    recall  f1-score   support\n",
      "\n",
      "    Negative       0.86      0.75      0.80       788\n",
      "    Positive       0.85      0.92      0.88      1212\n",
      "\n",
      "    accuracy                           0.85      2000\n",
      "   macro avg       0.85      0.83      0.84      2000\n",
      "weighted avg       0.85      0.85      0.85      2000\n",
      "\n",
      "\n",
      "Confusion Matrix for Category C: \n",
      " [[ 589  199]\n",
      " [  96 1116]]\n",
      "\n",
      "Confusion Matrix for Category C: By percentage\n",
      " [[0.2945 0.0995]\n",
      " [0.048  0.558 ]]\n",
      "\n",
      " END OF CATEGORY C\n",
      " \n",
      "\n",
      "\n",
      " ======================================================================= \n",
      "\n"
     ]
    }
   ],
   "source": [
    "predict_on_test(df_fash_clean, df_cafe_clean, df_auto_clean)"
   ]
  },
  {
   "cell_type": "markdown",
   "metadata": {},
   "source": [
    "A final conclusion on the evaluation is that among the three classifiers Logistic Regression performs reasonably well on the reviews compared to Naive Bayes and Random Forests."
   ]
  },
  {
   "cell_type": "markdown",
   "metadata": {},
   "source": [
    "### Further Analysis:\n",
    "\n",
    " As part of the further analyis, the project can be extended by detecting the languages of the review(since the reviews scraped contain reviews written in french, spanish, and other languages ) and creating more fearures that could help us predict the emotion better. We can make use of wordclouds to extract the most repeated words in all the reviews and add them to the list of stop words. This helps us to remove the words which doesn't add to the emotion of the sentences or reviews. And also, we can make use of stemming technique, which helps to improve the tokenization speed. "
   ]
  },
  {
   "cell_type": "markdown",
   "metadata": {},
   "source": [
    "### END OF ASSIGNMENT"
   ]
  },
  {
   "cell_type": "markdown",
   "metadata": {},
   "source": [
    "The following techniques uses the third party modules which are not specified in the guidelines. So, I request the evaluator to consider only the part above this for evaluation."
   ]
  },
  {
   "cell_type": "markdown",
   "metadata": {},
   "source": [
    "I have applied these techniques only on the Automobile category."
   ]
  },
  {
   "cell_type": "code",
   "execution_count": 55,
   "metadata": {},
   "outputs": [
    {
     "output_type": "stream",
     "name": "stdout",
     "text": [
      "['en' 'fr']\n"
     ]
    }
   ],
   "source": [
    "#language detection\n",
    "from langdetect import detect_langs\n",
    "\n",
    "languages_automotive = []\n",
    "\n",
    "for row in range(len(df_auto_clean)):\n",
    "    languages_automotive.append(detect_langs(df_auto_clean.loc[row, 'lemmatized_review']))\n",
    "    \n",
    "languages_extracted_automovtive = [str(lang).split(':')[0][1:] for lang in languages_automotive]\n",
    "\n",
    "df_auto_clean['language'] = languages_extracted_automovtive\n",
    "\n",
    "print(df_auto_clean.language.unique())"
   ]
  },
  {
   "cell_type": "code",
   "execution_count": 56,
   "metadata": {},
   "outputs": [
    {
     "output_type": "execute_result",
     "data": {
      "text/plain": [
       "      review_rating                                        review_text  \\\n",
       "1015              5  i have used franks three times two parking lot...   \n",
       "\n",
       "     class_label                                   review_tokenised  \\\n",
       "1015    Positive  [i, have, used, franks, three, times, two, par...   \n",
       "\n",
       "      len_tokens                                  lemmatized_review language  \n",
       "1015         107  i have used frank three time two parking lot a...       en  "
      ],
      "text/html": "<div>\n<style scoped>\n    .dataframe tbody tr th:only-of-type {\n        vertical-align: middle;\n    }\n\n    .dataframe tbody tr th {\n        vertical-align: top;\n    }\n\n    .dataframe thead th {\n        text-align: right;\n    }\n</style>\n<table border=\"1\" class=\"dataframe\">\n  <thead>\n    <tr style=\"text-align: right;\">\n      <th></th>\n      <th>review_rating</th>\n      <th>review_text</th>\n      <th>class_label</th>\n      <th>review_tokenised</th>\n      <th>len_tokens</th>\n      <th>lemmatized_review</th>\n      <th>language</th>\n    </tr>\n  </thead>\n  <tbody>\n    <tr>\n      <th>1015</th>\n      <td>5</td>\n      <td>i have used franks three times two parking lot...</td>\n      <td>Positive</td>\n      <td>[i, have, used, franks, three, times, two, par...</td>\n      <td>107</td>\n      <td>i have used frank three time two parking lot a...</td>\n      <td>en</td>\n    </tr>\n  </tbody>\n</table>\n</div>"
     },
     "metadata": {},
     "execution_count": 56
    }
   ],
   "source": [
    "df_auto_clean.sample()"
   ]
  },
  {
   "cell_type": "code",
   "execution_count": 57,
   "metadata": {},
   "outputs": [],
   "source": [
    "#import libraries\n",
    "import matplotlib.pyplot as plt\n",
    "from wordcloud import WordCloud, STOPWORDS"
   ]
  },
  {
   "cell_type": "code",
   "execution_count": 58,
   "metadata": {},
   "outputs": [
    {
     "output_type": "display_data",
     "data": {
      "text/plain": "<Figure size 432x288 with 1 Axes>",
      "image/svg+xml": "<?xml version=\"1.0\" encoding=\"utf-8\" standalone=\"no\"?>\r\n<!DOCTYPE svg PUBLIC \"-//W3C//DTD SVG 1.1//EN\"\r\n  \"http://www.w3.org/Graphics/SVG/1.1/DTD/svg11.dtd\">\r\n<!-- Created with matplotlib (https://matplotlib.org/) -->\r\n<svg height=\"181.8pt\" version=\"1.1\" viewBox=\"0 0 349.2 181.8\" width=\"349.2pt\" xmlns=\"http://www.w3.org/2000/svg\" xmlns:xlink=\"http://www.w3.org/1999/xlink\">\r\n <metadata>\r\n  <rdf:RDF xmlns:cc=\"http://creativecommons.org/ns#\" xmlns:dc=\"http://purl.org/dc/elements/1.1/\" xmlns:rdf=\"http://www.w3.org/1999/02/22-rdf-syntax-ns#\">\r\n   <cc:Work>\r\n    <dc:type rdf:resource=\"http://purl.org/dc/dcmitype/StillImage\"/>\r\n    <dc:date>2021-04-01T02:07:47.994738</dc:date>\r\n    <dc:format>image/svg+xml</dc:format>\r\n    <dc:creator>\r\n     <cc:Agent>\r\n      <dc:title>Matplotlib v3.3.2, https://matplotlib.org/</dc:title>\r\n     </cc:Agent>\r\n    </dc:creator>\r\n   </cc:Work>\r\n  </rdf:RDF>\r\n </metadata>\r\n <defs>\r\n  <style type=\"text/css\">*{stroke-linecap:butt;stroke-linejoin:round;}</style>\r\n </defs>\r\n <g id=\"figure_1\">\r\n  <g id=\"patch_1\">\r\n   <path d=\"M 0 181.8 \r\nL 349.2 181.8 \r\nL 349.2 0 \r\nL 0 0 \r\nz\r\n\" style=\"fill:none;\"/>\r\n  </g>\r\n  <g id=\"axes_1\">\r\n   <g clip-path=\"url(#pbd37b6e040)\">\r\n    <image height=\"168\" id=\"image91a7136873\" transform=\"scale(1 -1)translate(0 -168)\" width=\"335\" x=\"7.2\" xlink:href=\"data:image/png;base64,\r\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\" y=\"-6.6\"/>\r\n   </g>\r\n  </g>\r\n </g>\r\n <defs>\r\n  <clipPath id=\"pbd37b6e040\">\r\n   <rect height=\"167.4\" width=\"334.8\" x=\"7.2\" y=\"7.2\"/>\r\n  </clipPath>\r\n </defs>\r\n</svg>\r\n",
      "image/png": "[encoded data removed]"
     },
     "metadata": {
      "needs_background": "light"
     }
    }
   ],
   "source": [
    "cloud_auto_review = WordCloud().generate(str(df_auto_clean.review_text))\n",
    "\n",
    "plt.imshow(cloud_auto_review, interpolation='bilinear')\n",
    "\n",
    "plt.axis('off')\n",
    "\n",
    "plt.show()"
   ]
  },
  {
   "cell_type": "code",
   "execution_count": 59,
   "metadata": {},
   "outputs": [],
   "source": [
    "#define the stop words list\n",
    "my_stopwords = set(STOPWORDS)\n",
    "\n",
    "#update the set using the words in wordcloud  which doesn't make any sense.\n",
    "my_stopwords.update(['car', 'rude', 'chris', 'typical'])"
   ]
  },
  {
   "cell_type": "code",
   "execution_count": 60,
   "metadata": {},
   "outputs": [
    {
     "output_type": "display_data",
     "data": {
      "text/plain": "<Figure size 432x288 with 1 Axes>",
      "image/svg+xml": "<?xml version=\"1.0\" encoding=\"utf-8\" standalone=\"no\"?>\r\n<!DOCTYPE svg PUBLIC \"-//W3C//DTD SVG 1.1//EN\"\r\n  \"http://www.w3.org/Graphics/SVG/1.1/DTD/svg11.dtd\">\r\n<!-- Created with matplotlib (https://matplotlib.org/) -->\r\n<svg height=\"181.8pt\" version=\"1.1\" viewBox=\"0 0 349.2 181.8\" width=\"349.2pt\" xmlns=\"http://www.w3.org/2000/svg\" xmlns:xlink=\"http://www.w3.org/1999/xlink\">\r\n <metadata>\r\n  <rdf:RDF xmlns:cc=\"http://creativecommons.org/ns#\" xmlns:dc=\"http://purl.org/dc/elements/1.1/\" xmlns:rdf=\"http://www.w3.org/1999/02/22-rdf-syntax-ns#\">\r\n   <cc:Work>\r\n    <dc:type rdf:resource=\"http://purl.org/dc/dcmitype/StillImage\"/>\r\n    <dc:date>2021-04-01T02:07:48.858158</dc:date>\r\n    <dc:format>image/svg+xml</dc:format>\r\n    <dc:creator>\r\n     <cc:Agent>\r\n      <dc:title>Matplotlib v3.3.2, https://matplotlib.org/</dc:title>\r\n     </cc:Agent>\r\n    </dc:creator>\r\n   </cc:Work>\r\n  </rdf:RDF>\r\n </metadata>\r\n <defs>\r\n  <style type=\"text/css\">*{stroke-linecap:butt;stroke-linejoin:round;}</style>\r\n </defs>\r\n <g id=\"figure_1\">\r\n  <g id=\"patch_1\">\r\n   <path d=\"M 0 181.8 \r\nL 349.2 181.8 \r\nL 349.2 0 \r\nL 0 0 \r\nz\r\n\" style=\"fill:none;\"/>\r\n  </g>\r\n  <g id=\"axes_1\">\r\n   <g clip-path=\"url(#pd4270ada01)\">\r\n    <image height=\"168\" id=\"image8befab2028\" transform=\"scale(1 -1)translate(0 -168)\" width=\"335\" x=\"7.2\" xlink:href=\"data:image/png;base64,\r\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\" y=\"-6.6\"/>\r\n   </g>\r\n  </g>\r\n </g>\r\n <defs>\r\n  <clipPath id=\"pd4270ada01\">\r\n   <rect height=\"167.4\" width=\"334.8\" x=\"7.2\" y=\"7.2\"/>\r\n  </clipPath>\r\n </defs>\r\n</svg>\r\n",
      "image/png": "[encoded data removed]"
     },
     "metadata": {
      "needs_background": "light"
     }
    }
   ],
   "source": [
    "#generate and show the wordcloud again.\n",
    "cloud_auto_review  = WordCloud(background_color='white', stopwords=my_stopwords).generate(str(df_auto_clean.review_text))\n",
    "\n",
    "plt.imshow(cloud_auto_review, interpolation='bilinear')\n",
    "\n",
    "plt.axis('off')\n",
    "\n",
    "plt.show()"
   ]
  },
  {
   "cell_type": "code",
   "execution_count": 61,
   "metadata": {},
   "outputs": [],
   "source": [
    "my_stopwords = ENGLISH_STOP_WORDS.union(['place'])"
   ]
  },
  {
   "cell_type": "code",
   "execution_count": 62,
   "metadata": {},
   "outputs": [
    {
     "output_type": "stream",
     "name": "stdout",
     "text": [
      "Logistic Regression \n",
      "\n",
      "Accuracy of training data:  0.9618511569731082\n",
      "Accuracy on Testing data 0.9075\n",
      "Accuracy score on predicted data 0.9075\n",
      "\n",
      "Classification report : \n",
      "               precision    recall  f1-score   support\n",
      "\n",
      "    Negative       0.91      0.85      0.88       157\n",
      "    Positive       0.91      0.95      0.93       243\n",
      "\n",
      "    accuracy                           0.91       400\n",
      "   macro avg       0.91      0.90      0.90       400\n",
      "weighted avg       0.91      0.91      0.91       400\n",
      "\n",
      "\n",
      "Confusion Matrix : \n",
      " [[133  24]\n",
      " [ 13 230]]\n",
      "\n",
      "Confusion Matrix : By percentage\n",
      " [[0.3325 0.06  ]\n",
      " [0.0325 0.575 ]]\n",
      "=============================================================================================================================\n",
      "\n",
      "\n",
      "Naive Bayes \n",
      "\n",
      "Accuracy score on predicted data MultinomialNB 0.8225\n",
      "Accuracy score on predicted data BernoulliNB 0.79\n",
      "Accuracy score on predicted data GaussianNB 0.7425\n",
      "Accuracy of training data:  0.9287054409005628\n",
      "Accuracy on Testing data 0.8225\n",
      "\n",
      "Classification report MultinomialNB: \n",
      "               precision    recall  f1-score   support\n",
      "\n",
      "    Negative       0.98      0.58      0.73       166\n",
      "    Positive       0.77      0.99      0.87       234\n",
      "\n",
      "    accuracy                           0.82       400\n",
      "   macro avg       0.88      0.79      0.80       400\n",
      "weighted avg       0.86      0.82      0.81       400\n",
      "\n",
      "\n",
      "Classification report BernoulliNB: \n",
      "               precision    recall  f1-score   support\n",
      "\n",
      "    Negative       0.87      0.58      0.70       166\n",
      "    Positive       0.76      0.94      0.84       234\n",
      "\n",
      "    accuracy                           0.79       400\n",
      "   macro avg       0.81      0.76      0.77       400\n",
      "weighted avg       0.80      0.79      0.78       400\n",
      "\n",
      "\n",
      "Classification report GaussianNB: \n",
      "               precision    recall  f1-score   support\n",
      "\n",
      "    Negative       0.69      0.69      0.69       166\n",
      "    Positive       0.78      0.78      0.78       234\n",
      "\n",
      "    accuracy                           0.74       400\n",
      "   macro avg       0.73      0.73      0.73       400\n",
      "weighted avg       0.74      0.74      0.74       400\n",
      "\n",
      "\n",
      "Confusion Matrix MultinomialNB: \n",
      " [[ 97  69]\n",
      " [  2 232]]\n",
      "\n",
      "Confusion Matrix BernoulliNB: \n",
      " [[ 97  69]\n",
      " [ 15 219]]\n",
      "\n",
      "Confusion Matrix GaussianNB: \n",
      " [[114  52]\n",
      " [ 51 183]]\n",
      "\n",
      "Confusion Matrix MultinomialNB: By percentage\n",
      " [[0.2425 0.1725]\n",
      " [0.005  0.58  ]]\n",
      "\n",
      "Confusion Matrix BernoulliNB: By percentage\n",
      " [[0.2425 0.1725]\n",
      " [0.0375 0.5475]]\n",
      "\n",
      "Confusion Matrix GaussianNB: By percentage\n",
      " [[0.285  0.13  ]\n",
      " [0.1275 0.4575]]\n",
      "=============================================================================================================================\n",
      "\n",
      "\n",
      "Random Forest \n",
      "\n",
      "Accuracy score on predicted data Random Forest 0.865\n",
      "Accuracy of training data:  0.9631019387116948\n",
      "Accuracy on Testing data 0.865\n",
      "\n",
      "Classification report Random Forest: \n",
      "               precision    recall  f1-score   support\n",
      "\n",
      "    Negative       0.94      0.72      0.82       166\n",
      "    Positive       0.83      0.97      0.89       234\n",
      "\n",
      "    accuracy                           0.86       400\n",
      "   macro avg       0.88      0.84      0.85       400\n",
      "weighted avg       0.88      0.86      0.86       400\n",
      "\n",
      "\n",
      "Confusion Matrix Random Forest: \n",
      " [[120  46]\n",
      " [  8 226]]\n",
      "\n",
      "Confusion Matrix Random Forest: By percentage\n",
      " [[0.3   0.115]\n",
      " [0.02  0.565]]\n"
     ]
    }
   ],
   "source": [
    "#vectorise_reviews()\n",
    "\n",
    "df_auto_clean_en = df_auto_clean[df_auto_clean['language'] == 'en']\n",
    "\n",
    "#Logistic Regression\n",
    "print(\"Logistic Regression \\n\")\n",
    "fit_and_predict_evaluate_lg(df_auto_clean_en)\n",
    "print(\"=============================================================================================================================\")\n",
    "#Naive Bayes\n",
    "print(\"\\n\\nNaive Bayes \\n\")\n",
    "fit_and_predict_evaluate_nb(df_auto_clean_en)\n",
    "print(\"=============================================================================================================================\")\n",
    "#Random Forest\n",
    "print(\"\\n\\nRandom Forest \\n\")\n",
    "fit_and_predict_evaluate_rf(df_auto_clean_en)"
   ]
  },
  {
   "cell_type": "markdown",
   "metadata": {},
   "source": [
    "By following the above techniques, the performance of the ML Classifers could be increased to a certain extent in all the categories."
   ]
  },
  {
   "cell_type": "code",
   "execution_count": null,
   "metadata": {},
   "outputs": [],
   "source": []
  },
  {
   "cell_type": "code",
   "execution_count": null,
   "metadata": {},
   "outputs": [],
   "source": []
  }
 ],
 "metadata": {
  "kernelspec": {
   "name": "python385jvsc74a57bd001f139f06680331c19aeaba26688dba45234c5fc4176058c2178ac70640604d9",
   "display_name": "Python 3.8.5 64-bit ('base': conda)"
  },
  "language_info": {
   "codemirror_mode": {
    "name": "ipython",
    "version": 3
   },
   "file_extension": ".py",
   "mimetype": "text/x-python",
   "name": "python",
   "nbconvert_exporter": "python",
   "pygments_lexer": "ipython3",
   "version": "3.8.5-final"
  }
 },
 "nbformat": 4,
 "nbformat_minor": 4
}